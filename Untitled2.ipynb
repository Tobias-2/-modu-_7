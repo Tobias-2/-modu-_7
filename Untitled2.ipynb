{
 "cells": [
  {
   "cell_type": "code",
   "execution_count": 3,
   "id": "0f4e76aa-0af4-41f3-95e0-0e48bab8703e",
   "metadata": {},
   "outputs": [
    {
     "name": "stdout",
     "output_type": "stream",
     "text": [
      "Requirement already satisfied: numpy-financial==1.0.0 in c:\\users\\start\\anaconda3\\lib\\site-packages (1.0.0)\n",
      "Requirement already satisfied: numpy>=1.15 in c:\\users\\start\\anaconda3\\lib\\site-packages (from numpy-financial==1.0.0) (1.26.4)\n",
      "Note: you may need to restart the kernel to use updated packages.\n"
     ]
    }
   ],
   "source": [
    "pip install numpy-financial==1.0.0"
   ]
  },
  {
   "cell_type": "code",
   "execution_count": 5,
   "id": "524a4a88-7d18-4ea3-97ad-4a41ce4adf1f",
   "metadata": {},
   "outputs": [],
   "source": [
    "import numpy_financial as npf"
   ]
  },
  {
   "cell_type": "code",
   "execution_count": 7,
   "id": "9b968cf6-7a5b-475f-9b42-cc9b4a3d5afe",
   "metadata": {},
   "outputs": [],
   "source": [
    "years = 5"
   ]
  },
  {
   "cell_type": "code",
   "execution_count": 9,
   "id": "1b200239-0163-4cad-970f-dfdf557543ab",
   "metadata": {},
   "outputs": [],
   "source": [
    "wzrosty = np.arange(1,years+1,dtype=int)"
   ]
  },
  {
   "cell_type": "code",
   "execution_count": 11,
   "id": "852e5bb8-b7c4-4d8c-a8ee-e25b3bdbc759",
   "metadata": {},
   "outputs": [
    {
     "data": {
      "text/plain": [
       "array([1, 2, 3, 4, 5])"
      ]
     },
     "execution_count": 11,
     "metadata": {},
     "output_type": "execute_result"
    }
   ],
   "source": [
    "wzrosty"
   ]
  },
  {
   "cell_type": "code",
   "execution_count": 13,
   "id": "277c3469-7e4c-4c7d-b38a-5d70dd8a9eb9",
   "metadata": {},
   "outputs": [],
   "source": [
    "np.set_printoptions(suppress=True)"
   ]
  },
  {
   "cell_type": "code",
   "execution_count": 15,
   "id": "8c429398-eded-49c5-bee7-1a3b3da86fda",
   "metadata": {},
   "outputs": [],
   "source": [
    "cena = 120000"
   ]
  },
  {
   "cell_type": "code",
   "execution_count": 17,
   "id": "321de119-c7da-4a22-9009-8ae81ffe0910",
   "metadata": {},
   "outputs": [
    {
     "data": {
      "text/plain": [
       "array([600000., 600000., 600000., 600000., 600000.])"
      ]
     },
     "execution_count": 17,
     "metadata": {},
     "output_type": "execute_result"
    }
   ],
   "source": [
    "wzrost_mieszkania = np.around(np.zeros(years)+(years*cena),2)\n",
    "wzrost_mieszkania[:5]"
   ]
  },
  {
   "cell_type": "code",
   "execution_count": 19,
   "id": "bbae9d92-1836-486c-b954-dd127679111b",
   "metadata": {},
   "outputs": [
    {
     "data": {
      "text/plain": [
       "array([ -480000., -1080000., -1680000., -1680000., -2280000., -2880000.])"
      ]
     },
     "execution_count": 19,
     "metadata": {},
     "output_type": "execute_result"
    }
   ],
   "source": [
    "balance = np.zeros(years) + cena\n",
    "balance_close = np.around(balance - np.cumsum(wzrost_mieszkania),2)\n",
    "balance_close[[0,1,2,-3,-2,-1]]"
   ]
  },
  {
   "cell_type": "code",
   "execution_count": 21,
   "id": "468e8d6d-d238-4f41-9617-eb0155d1c877",
   "metadata": {},
   "outputs": [],
   "source": [
    "WS = 0.05"
   ]
  },
  {
   "cell_type": "code",
   "execution_count": 23,
   "id": "2d9942d0-3168-41d2-a98d-faa113d5c793",
   "metadata": {},
   "outputs": [
    {
     "data": {
      "text/plain": [
       "array([6000., 6000., 6000., 6000., 6000.])"
      ]
     },
     "execution_count": 23,
     "metadata": {},
     "output_type": "execute_result"
    }
   ],
   "source": [
    "wzrost_mieszkania = np.around(np.zeros(years)+(cena*WS),2)\n",
    "wzrost_mieszkania[:5]"
   ]
  },
  {
   "cell_type": "code",
   "execution_count": 25,
   "id": "33bf152b-0062-43d1-b6ab-6ba7d193acab",
   "metadata": {},
   "outputs": [
    {
     "data": {
      "text/plain": [
       "array([126000., 132000., 138000., 144000., 150000.])"
      ]
     },
     "execution_count": 25,
     "metadata": {},
     "output_type": "execute_result"
    }
   ],
   "source": [
    "balance = np.zeros(years) + cena\n",
    "balance_close = np.around(balance + np.cumsum(wzrost_mieszkania),2)\n",
    "balance_close[[0,1,2,3,4]]"
   ]
  },
  {
   "cell_type": "code",
   "execution_count": 27,
   "id": "55a50031-07e2-48cb-8673-f5045602d30e",
   "metadata": {},
   "outputs": [
    {
     "data": {
      "text/plain": [
       "array([150000., 126000., 132000., 138000., 144000., 150000.])"
      ]
     },
     "execution_count": 27,
     "metadata": {},
     "output_type": "execute_result"
    }
   ],
   "source": [
    "balance = np.zeros(years) + cena\n",
    "balance_close = np.around(balance + np.cumsum(wzrost_mieszkania),2)\n",
    "balance_close[[-1,0,1,2,3,4]]"
   ]
  },
  {
   "cell_type": "code",
   "execution_count": 29,
   "id": "a68bb213-55d6-457c-911c-1b0716680960",
   "metadata": {},
   "outputs": [
    {
     "ename": "SyntaxError",
     "evalue": "invalid syntax (2537408366.py, line 3)",
     "output_type": "error",
     "traceback": [
      "\u001b[1;36m  Cell \u001b[1;32mIn[29], line 3\u001b[1;36m\u001b[0m\n\u001b[1;33m    balance_close[[,0,1,2,3,4]]\u001b[0m\n\u001b[1;37m                   ^\u001b[0m\n\u001b[1;31mSyntaxError\u001b[0m\u001b[1;31m:\u001b[0m invalid syntax\n"
     ]
    }
   ],
   "source": [
    "balance = np.zeros(years) + cena\n",
    "balance_close = np.around(balance + np.cumsum(wzrost_mieszkania)*(1.05),2)\n",
    "balance_close[[,0,1,2,3,4]]"
   ]
  },
  {
   "cell_type": "code",
   "execution_count": 31,
   "id": "d97ac722-0587-45e3-ac22-4ab5cd93953e",
   "metadata": {},
   "outputs": [
    {
     "data": {
      "text/plain": [
       "array([126300., 132600., 138900., 145200., 151500.])"
      ]
     },
     "execution_count": 31,
     "metadata": {},
     "output_type": "execute_result"
    }
   ],
   "source": [
    "balance = np.zeros(years) + cena\n",
    "balance_close = np.around(balance + np.cumsum(wzrost_mieszkania)*(1.05),2)\n",
    "balance_close[[0,1,2,3,4]]"
   ]
  },
  {
   "cell_type": "code",
   "execution_count": 33,
   "id": "3ba6693e-ef02-4a72-b7f1-371ca4e2dc2a",
   "metadata": {},
   "outputs": [
    {
     "data": {
      "text/plain": [
       "array([132300., 138600., 144900., 151200., 157500.])"
      ]
     },
     "execution_count": 33,
     "metadata": {},
     "output_type": "execute_result"
    }
   ],
   "source": [
    "balance = np.zeros(years) + cena\n",
    "balance_close = np.around((balance + np.cumsum(wzrost_mieszkania))*(1.05),2)\n",
    "balance_close[[0,1,2,3,4]]"
   ]
  },
  {
   "cell_type": "code",
   "execution_count": 35,
   "id": "ebde36df-2c6d-4759-b635-16adf5d5e0e1",
   "metadata": {},
   "outputs": [
    {
     "data": {
      "text/plain": [
       "array([126000., 126000., 126000., 126000., 126000.])"
      ]
     },
     "execution_count": 35,
     "metadata": {},
     "output_type": "execute_result"
    }
   ],
   "source": [
    "balance = np.zeros(years) + cena\n",
    "balance_close = np.around(balance*(1.05),2)\n",
    "balance_close[[0,1,2,3,4]]"
   ]
  },
  {
   "cell_type": "code",
   "execution_count": 37,
   "id": "d9f456b6-55ce-4e1b-a065-965d54f2fe9b",
   "metadata": {},
   "outputs": [
    {
     "data": {
      "text/plain": [
       "array([132000., 138000., 144000., 150000., 156000.])"
      ]
     },
     "execution_count": 37,
     "metadata": {},
     "output_type": "execute_result"
    }
   ],
   "source": [
    "balance = (np.zeros(years) + cena)*1.05\n",
    "balance_close = np.around((balance + np.cumsum(wzrost_mieszkania)),2)\n",
    "balance_close[[0,1,2,3,4]]"
   ]
  },
  {
   "cell_type": "code",
   "execution_count": 39,
   "id": "b703c57c-f343-4d31-ae87-3141a35516ca",
   "metadata": {},
   "outputs": [
    {
     "data": {
      "text/plain": [
       "array([126000., 126000., 126000., 126000., 126000.])"
      ]
     },
     "execution_count": 39,
     "metadata": {},
     "output_type": "execute_result"
    }
   ],
   "source": [
    "balance = (np.zeros(years) + cena)*1.05\n",
    "balance_close = np.around((balance),2)\n",
    "balance_close[[0,1,2,3,4]]"
   ]
  },
  {
   "cell_type": "code",
   "execution_count": 41,
   "id": "7e258be3-acf0-4c32-9d6e-b4524fd86790",
   "metadata": {},
   "outputs": [
    {
     "data": {
      "text/plain": [
       "array([132300., 132300., 132300., 132300., 132300.])"
      ]
     },
     "execution_count": 41,
     "metadata": {},
     "output_type": "execute_result"
    }
   ],
   "source": [
    "balance = (np.zeros(years) + cena)*1.05\n",
    "balance_close = np.around((balance*1.05),2)\n",
    "balance_close[[0,1,2,3,4]]"
   ]
  },
  {
   "cell_type": "code",
   "execution_count": 43,
   "id": "858f01d7-29e8-4c83-9eec-69a21bba1b1a",
   "metadata": {},
   "outputs": [
    {
     "data": {
      "text/plain": [
       "array([126000., 132000., 138000., 144000., 150000.])"
      ]
     },
     "execution_count": 43,
     "metadata": {},
     "output_type": "execute_result"
    }
   ],
   "source": [
    "balance = (np.zeros(years) + cena)\n",
    "balance_close = np.around((balance + np.cumsum(wzrost_mieszkania)),2)\n",
    "balance_close[[0,1,2,3,4]]"
   ]
  },
  {
   "cell_type": "code",
   "execution_count": 45,
   "id": "6a1e75b9-a4a0-4d21-a2cb-8e5db68a6c8a",
   "metadata": {},
   "outputs": [],
   "source": [
    "freq = 12"
   ]
  },
  {
   "cell_type": "code",
   "execution_count": 47,
   "id": "12d6bab9-032b-4b6f-be83-775c878db3e5",
   "metadata": {},
   "outputs": [],
   "source": [
    "wpłaty = years*freq"
   ]
  },
  {
   "cell_type": "code",
   "execution_count": 49,
   "id": "c8b8ba77-9130-40c0-967b-ad0661ab9ed9",
   "metadata": {},
   "outputs": [
    {
     "data": {
      "text/plain": [
       "60"
      ]
     },
     "execution_count": 49,
     "metadata": {},
     "output_type": "execute_result"
    }
   ],
   "source": [
    "wpłaty"
   ]
  },
  {
   "cell_type": "code",
   "execution_count": 51,
   "id": "8e992fe3-48b6-4927-9f2e-7a9f9832206a",
   "metadata": {},
   "outputs": [],
   "source": [
    "okresy_wpłat = np.arange(1,wpłaty+1,dtype=int)"
   ]
  },
  {
   "cell_type": "code",
   "execution_count": 53,
   "id": "82e746c4-83fb-49d1-abc2-48f3d673044e",
   "metadata": {},
   "outputs": [
    {
     "data": {
      "text/plain": [
       "array([ 1,  2,  3,  4,  5,  6,  7,  8,  9, 10, 11, 12, 13, 14, 15, 16, 17,\n",
       "       18, 19, 20, 21, 22, 23, 24, 25, 26, 27, 28, 29, 30, 31, 32, 33, 34,\n",
       "       35, 36, 37, 38, 39, 40, 41, 42, 43, 44, 45, 46, 47, 48, 49, 50, 51,\n",
       "       52, 53, 54, 55, 56, 57, 58, 59, 60])"
      ]
     },
     "execution_count": 53,
     "metadata": {},
     "output_type": "execute_result"
    }
   ],
   "source": [
    "okresy_wpłat"
   ]
  },
  {
   "cell_type": "code",
   "execution_count": 55,
   "id": "7495d371-f8ea-4e77-a94f-2ce37c2eb217",
   "metadata": {},
   "outputs": [
    {
     "ename": "ValueError",
     "evalue": "maximum supported dimension for an ndarray is 32, found 60",
     "output_type": "error",
     "traceback": [
      "\u001b[1;31m---------------------------------------------------------------------------\u001b[0m",
      "\u001b[1;31mValueError\u001b[0m                                Traceback (most recent call last)",
      "Cell \u001b[1;32mIn[55], line 1\u001b[0m\n\u001b[1;32m----> 1\u001b[0m lokata_rosnąca \u001b[38;5;241m=\u001b[39m np\u001b[38;5;241m.\u001b[39maround(np\u001b[38;5;241m.\u001b[39mzeros(okresy_wpłat)\u001b[38;5;241m+\u001b[39m(pv\u001b[38;5;241m/\u001b[39mokresy_wpłat),\u001b[38;5;241m2\u001b[39m)\n\u001b[0;32m      2\u001b[0m lokata_rosnąca[:\u001b[38;5;241m60\u001b[39m]\n",
      "\u001b[1;31mValueError\u001b[0m: maximum supported dimension for an ndarray is 32, found 60"
     ]
    }
   ],
   "source": [
    "lokata_rosnąca = np.around(np.zeros(okresy_wpłat)+(pv/okresy_wpłat),2)\n",
    "lokata_rosnąca[:60]"
   ]
  },
  {
   "cell_type": "code",
   "execution_count": 57,
   "id": "345d4918-582c-4b17-90f1-869e98220f1a",
   "metadata": {},
   "outputs": [
    {
     "ename": "ValueError",
     "evalue": "maximum supported dimension for an ndarray is 32, found 60",
     "output_type": "error",
     "traceback": [
      "\u001b[1;31m---------------------------------------------------------------------------\u001b[0m",
      "\u001b[1;31mValueError\u001b[0m                                Traceback (most recent call last)",
      "Cell \u001b[1;32mIn[57], line 1\u001b[0m\n\u001b[1;32m----> 1\u001b[0m lokata_rosnąca \u001b[38;5;241m=\u001b[39m np\u001b[38;5;241m.\u001b[39maround(np\u001b[38;5;241m.\u001b[39mzeros(okresy_wpłat)\u001b[38;5;241m+\u001b[39m(pv\u001b[38;5;241m/\u001b[39mokresy_wpłat),\u001b[38;5;241m2\u001b[39m)\n\u001b[0;32m      2\u001b[0m lokata_rosnąca[:\u001b[38;5;241m10\u001b[39m]\n",
      "\u001b[1;31mValueError\u001b[0m: maximum supported dimension for an ndarray is 32, found 60"
     ]
    }
   ],
   "source": [
    "lokata_rosnąca = np.around(np.zeros(okresy_wpłat)+(pv/okresy_wpłat),2)\n",
    "lokata_rosnąca[:10]"
   ]
  },
  {
   "cell_type": "code",
   "execution_count": 59,
   "id": "9e7f11df-0a0c-4280-ac87-713efbfa1e29",
   "metadata": {},
   "outputs": [
    {
     "ename": "NameError",
     "evalue": "name 'int64' is not defined",
     "output_type": "error",
     "traceback": [
      "\u001b[1;31m---------------------------------------------------------------------------\u001b[0m",
      "\u001b[1;31mNameError\u001b[0m                                 Traceback (most recent call last)",
      "Cell \u001b[1;32mIn[59], line 1\u001b[0m\n\u001b[1;32m----> 1\u001b[0m okresy_wpłat \u001b[38;5;241m=\u001b[39m np\u001b[38;5;241m.\u001b[39marange(\u001b[38;5;241m1\u001b[39m,wpłaty\u001b[38;5;241m+\u001b[39m\u001b[38;5;241m1\u001b[39m,dtype\u001b[38;5;241m=\u001b[39mint64)\n",
      "\u001b[1;31mNameError\u001b[0m: name 'int64' is not defined"
     ]
    }
   ],
   "source": [
    "okresy_wpłat = np.arange(1,wpłaty+1,dtype=int64)"
   ]
  },
  {
   "cell_type": "code",
   "execution_count": 61,
   "id": "91a9870b-e022-4d30-a5f1-74d8af737ed6",
   "metadata": {},
   "outputs": [
    {
     "ename": "ValueError",
     "evalue": "maximum supported dimension for an ndarray is 32, found 60",
     "output_type": "error",
     "traceback": [
      "\u001b[1;31m---------------------------------------------------------------------------\u001b[0m",
      "\u001b[1;31mValueError\u001b[0m                                Traceback (most recent call last)",
      "Cell \u001b[1;32mIn[61], line 1\u001b[0m\n\u001b[1;32m----> 1\u001b[0m lokata_rosnąca \u001b[38;5;241m=\u001b[39m np\u001b[38;5;241m.\u001b[39maround(np\u001b[38;5;241m.\u001b[39mzeros(okresy_wpłat) \u001b[38;5;241m+\u001b[39m (pv \u001b[38;5;241m/\u001b[39m okresy_wpłat), \u001b[38;5;241m2\u001b[39m)\n\u001b[0;32m      2\u001b[0m \u001b[38;5;28mprint\u001b[39m(lokata_rosnąca[:\u001b[38;5;241m10\u001b[39m])\n",
      "\u001b[1;31mValueError\u001b[0m: maximum supported dimension for an ndarray is 32, found 60"
     ]
    }
   ],
   "source": [
    "lokata_rosnąca = np.around(np.zeros(okresy_wpłat) + (pv / okresy_wpłat), 2)\n",
    "print(lokata_rosnąca[:10])"
   ]
  },
  {
   "cell_type": "code",
   "execution_count": 63,
   "id": "3cdaa339-5374-4c03-bdbb-e389c7b2ff61",
   "metadata": {},
   "outputs": [
    {
     "ename": "ValueError",
     "evalue": "maximum supported dimension for an ndarray is 32, found 60",
     "output_type": "error",
     "traceback": [
      "\u001b[1;31m---------------------------------------------------------------------------\u001b[0m",
      "\u001b[1;31mValueError\u001b[0m                                Traceback (most recent call last)",
      "Cell \u001b[1;32mIn[63], line 1\u001b[0m\n\u001b[1;32m----> 1\u001b[0m lokata_rosnąca \u001b[38;5;241m=\u001b[39m np\u001b[38;5;241m.\u001b[39maround(np\u001b[38;5;241m.\u001b[39mzeros(okresy_wpłat) \u001b[38;5;241m+\u001b[39m (okresy_wpłat\u001b[38;5;241m*\u001b[39m\u001b[38;5;241m0.12\u001b[39m), \u001b[38;5;241m2\u001b[39m)\n\u001b[0;32m      2\u001b[0m \u001b[38;5;28mprint\u001b[39m(lokata_rosnąca[:\u001b[38;5;241m10\u001b[39m])\n",
      "\u001b[1;31mValueError\u001b[0m: maximum supported dimension for an ndarray is 32, found 60"
     ]
    }
   ],
   "source": [
    "lokata_rosnąca = np.around(np.zeros(okresy_wpłat) + (okresy_wpłat*0.12), 2)\n",
    "print(lokata_rosnąca[:10])"
   ]
  },
  {
   "cell_type": "code",
   "execution_count": 65,
   "id": "f4e0d06d-5ec4-47f9-b063-bca3e1e88bf3",
   "metadata": {},
   "outputs": [],
   "source": [
    "freq = 12\n",
    "years = 5\n",
    "wzrost = 0.05\n",
    "kapitalizacja = 0.12\n",
    "okresy = years*freq"
   ]
  },
  {
   "cell_type": "code",
   "execution_count": 67,
   "id": "d0eefcb9-22e2-46b7-81ea-c883a0204d85",
   "metadata": {},
   "outputs": [],
   "source": [
    "import numpy as np"
   ]
  },
  {
   "cell_type": "code",
   "execution_count": 69,
   "id": "5037ab27-4443-456f-abbb-c1032b5299a7",
   "metadata": {},
   "outputs": [
    {
     "name": "stdout",
     "output_type": "stream",
     "text": [
      "Requirement already satisfied: numpy-financial==1.0.0 in c:\\users\\start\\anaconda3\\lib\\site-packages (1.0.0)\n",
      "Requirement already satisfied: numpy>=1.15 in c:\\users\\start\\anaconda3\\lib\\site-packages (from numpy-financial==1.0.0) (1.26.4)\n",
      "Note: you may need to restart the kernel to use updated packages.\n"
     ]
    }
   ],
   "source": [
    "pip install numpy-financial==1.0.0"
   ]
  },
  {
   "cell_type": "code",
   "execution_count": 71,
   "id": "2dc12457-237a-400e-b8c3-94458c6715e6",
   "metadata": {},
   "outputs": [],
   "source": [
    "periods = np.arange(1,years+1,dtype=int)"
   ]
  },
  {
   "cell_type": "code",
   "execution_count": 73,
   "id": "c366a20e-5dbc-4795-acd0-8d9e58d2cf01",
   "metadata": {},
   "outputs": [
    {
     "data": {
      "text/plain": [
       "array([1, 2, 3, 4, 5])"
      ]
     },
     "execution_count": 73,
     "metadata": {},
     "output_type": "execute_result"
    }
   ],
   "source": [
    "periods"
   ]
  },
  {
   "cell_type": "code",
   "execution_count": 75,
   "id": "2fba7aab-6337-4a01-b830-49b6016e3b80",
   "metadata": {},
   "outputs": [
    {
     "data": {
      "text/plain": [
       "array([6000.  , 4914.15, 3774.01, 2576.86, 1319.86])"
      ]
     },
     "execution_count": 75,
     "metadata": {},
     "output_type": "execute_result"
    }
   ],
   "source": [
    "import numpy_financial as npf\n",
    "interest_equal = - np.around(npf.ipmt(wzrost,periods,years,cena),2)\n",
    "interest_equal[:10]"
   ]
  },
  {
   "cell_type": "code",
   "execution_count": 77,
   "id": "866a1b55-349b-46b2-9aaf-f25147d14145",
   "metadata": {},
   "outputs": [
    {
     "data": {
      "text/plain": [
       "array([-6000.  , -4914.15, -3774.01, -2576.86, -1319.86])"
      ]
     },
     "execution_count": 77,
     "metadata": {},
     "output_type": "execute_result"
    }
   ],
   "source": [
    "import numpy_financial as npf\n",
    "interest_equal = np.around(npf.ipmt(wzrost,periods,years,cena),2)\n",
    "interest_equal[:10]"
   ]
  },
  {
   "cell_type": "code",
   "execution_count": 79,
   "id": "18cb982e-6991-440c-ba4c-b1a71c2d7f5c",
   "metadata": {},
   "outputs": [
    {
     "data": {
      "text/plain": [
       "array([6000.  , 4914.15, 3774.01, 2576.86, 1319.86])"
      ]
     },
     "execution_count": 79,
     "metadata": {},
     "output_type": "execute_result"
    }
   ],
   "source": [
    "import numpy_financial as npf\n",
    "interest_equal = - np.around(npf.ipmt(wzrost,periods,years,cena),2)\n",
    "interest_equal[:10]"
   ]
  },
  {
   "cell_type": "code",
   "execution_count": 81,
   "id": "66336efd-3bdc-4587-9e6a-e0bba69491e4",
   "metadata": {},
   "outputs": [],
   "source": [
    "freq = 12\n",
    "years = 5\n",
    "rate = 0.05\n",
    "kapitalizacja = 0.12\n",
    "okresy = years*freq\n",
    "nper = years"
   ]
  },
  {
   "cell_type": "code",
   "execution_count": 83,
   "id": "2f6addbd-2815-479c-93e9-698f93ede99c",
   "metadata": {},
   "outputs": [],
   "source": [
    "periods = np.arange(1,nper+1,dtype=int)"
   ]
  },
  {
   "cell_type": "code",
   "execution_count": 85,
   "id": "e477df23-2bc2-4f19-a5e4-278a55561f09",
   "metadata": {},
   "outputs": [
    {
     "data": {
      "text/plain": [
       "array([1, 2, 3, 4, 5])"
      ]
     },
     "execution_count": 85,
     "metadata": {},
     "output_type": "execute_result"
    }
   ],
   "source": [
    "periods"
   ]
  },
  {
   "cell_type": "code",
   "execution_count": 87,
   "id": "fa845045-880d-4251-a5e9-779a35bb9494",
   "metadata": {},
   "outputs": [],
   "source": [
    "pv = 120000"
   ]
  },
  {
   "cell_type": "code",
   "execution_count": 89,
   "id": "b3dea375-d27d-42c8-866b-c1d2e87e9d2f",
   "metadata": {},
   "outputs": [
    {
     "data": {
      "text/plain": [
       "array([6000.  , 4914.15, 3774.01, 2576.86, 1319.86])"
      ]
     },
     "execution_count": 89,
     "metadata": {},
     "output_type": "execute_result"
    }
   ],
   "source": [
    "import numpy_financial as npf\n",
    "interest_equal = - np.around(npf.ipmt(rate,periods,nper,pv),2)\n",
    "interest_equal[:10]"
   ]
  },
  {
   "cell_type": "code",
   "execution_count": 91,
   "id": "d42383e9-e03f-4e3c-a40f-707dd5811154",
   "metadata": {},
   "outputs": [
    {
     "data": {
      "text/plain": [
       "array([24000., 24000., 24000., 24000., 24000.])"
      ]
     },
     "execution_count": 91,
     "metadata": {},
     "output_type": "execute_result"
    }
   ],
   "source": [
    "np.set_printoptions(suppress=True)\n",
    "\n",
    "principal_flat = np.around(np.zeros(nper)+(pv/nper),2)\n",
    "principal_flat[:10]"
   ]
  },
  {
   "cell_type": "code",
   "execution_count": 93,
   "id": "1cfdaa66-d4ca-4726-88b1-863dfe05f04f",
   "metadata": {},
   "outputs": [
    {
     "data": {
      "text/plain": [
       "array([6000., 6000., 6000., 6000., 6000.])"
      ]
     },
     "execution_count": 93,
     "metadata": {},
     "output_type": "execute_result"
    }
   ],
   "source": [
    "np.set_printoptions(suppress=True)\n",
    "\n",
    "principal_flat = np.around(np.zeros(nper)+(pv*rate),2)\n",
    "principal_flat[:10]"
   ]
  },
  {
   "cell_type": "code",
   "execution_count": 115,
   "id": "7bc7d590-df23-464f-9a08-034378444813",
   "metadata": {},
   "outputs": [
    {
     "data": {
      "text/plain": [
       "array([126000., 132000., 138000., 138000., 144000., 150000.])"
      ]
     },
     "execution_count": 115,
     "metadata": {},
     "output_type": "execute_result"
    }
   ],
   "source": [
    "balance_flat = np.zeros(nper) + pv\n",
    "balance_flat_close = np.around(balance + np.cumsum(principal_flat),2)\n",
    "balance_flat_close[[0,1,2,-3,-2,-1]]"
   ]
  },
  {
   "cell_type": "code",
   "execution_count": 117,
   "id": "45054162-ffd6-42fa-81ba-c6e553803d78",
   "metadata": {},
   "outputs": [
    {
     "data": {
      "text/plain": [
       "array([ 6000., 12000., 18000., 24000., 30000.])"
      ]
     },
     "execution_count": 117,
     "metadata": {},
     "output_type": "execute_result"
    }
   ],
   "source": [
    "np.cumsum(principal_flat)[:10]"
   ]
  },
  {
   "cell_type": "code",
   "execution_count": 119,
   "id": "9070b564-9429-4016-9a50-16fd4e86b5d3",
   "metadata": {},
   "outputs": [],
   "source": [
    "balance_open = balance_flat_close + principal_flat"
   ]
  },
  {
   "cell_type": "code",
   "execution_count": 133,
   "id": "b06f8ce4-ed7d-4791-88ef-14510777333d",
   "metadata": {},
   "outputs": [
    {
     "data": {
      "text/plain": [
       "array([6600., 6900., 7200., 7500., 7800.])"
      ]
     },
     "execution_count": 133,
     "metadata": {},
     "output_type": "execute_result"
    }
   ],
   "source": [
    "interest_flat = np.around(balance_open * rate,2)\n",
    "interest_flat[:10] "
   ]
  },
  {
   "cell_type": "code",
   "execution_count": 135,
   "id": "c9eec113-4c92-4ba4-b1fe-8e7ed645f117",
   "metadata": {},
   "outputs": [
    {
     "data": {
      "text/plain": [
       "Text(0, 0.5, 'Skumulowana wartość')"
      ]
     },
     "execution_count": 135,
     "metadata": {},
     "output_type": "execute_result"
    },
    {
     "data": {
      "image/png": "[encoded data removed]",
      "text/plain": [
       "<Figure size 640x480 with 1 Axes>"
      ]
     },
     "metadata": {},
     "output_type": "display_data"
    }
   ],
   "source": [
    "import matplotlib.pyplot as plt\n",
    "\n",
    "plt.plot(balance_flat_close.cumsum(),label='mieszkanie')\n",
    "plt.legend()\n",
    "plt.xlabel('Liczba okresów')\n",
    "plt.ylabel('Skumulowana wartość')"
   ]
  },
  {
   "cell_type": "code",
   "execution_count": null,
   "id": "b91c6a6a-88ad-4ac9-a8b6-53c32afd38c2",
   "metadata": {},
   "outputs": [],
   "source": []
  }
 ],
 "metadata": {
  "kernelspec": {
   "display_name": "Python 3 (ipykernel)",
   "language": "python",
   "name": "python3"
  },
  "language_info": {
   "codemirror_mode": {
    "name": "ipython",
    "version": 3
   },
   "file_extension": ".py",
   "mimetype": "text/x-python",
   "name": "python",
   "nbconvert_exporter": "python",
   "pygments_lexer": "ipython3",
   "version": "3.12.3"
  }
 },
 "nbformat": 4,
 "nbformat_minor": 5
}
