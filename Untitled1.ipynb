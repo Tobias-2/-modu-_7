{
 "cells": [
  {
   "cell_type": "code",
   "execution_count": 7,
   "id": "2828b9b0-913a-4cd9-8a4f-dcf0e588cee0",
   "metadata": {},
   "outputs": [],
   "source": [
    "import numpy as np"
   ]
  },
  {
   "cell_type": "code",
   "execution_count": 11,
   "id": "597ee16e-ea71-49f9-a162-981e26a2c918",
   "metadata": {},
   "outputs": [
    {
     "data": {
      "text/plain": [
       "numpy.ndarray"
      ]
     },
     "execution_count": 11,
     "metadata": {},
     "output_type": "execute_result"
    }
   ],
   "source": [
    "one_dim = np.array([1,2,3,4])\n",
    "type(one_dim)\n"
   ]
  },
  {
   "cell_type": "code",
   "execution_count": 13,
   "id": "cdf9082d-a596-4845-a25b-b3a4a5bdbc1e",
   "metadata": {},
   "outputs": [
    {
     "data": {
      "text/plain": [
       "(4,)"
      ]
     },
     "execution_count": 13,
     "metadata": {},
     "output_type": "execute_result"
    }
   ],
   "source": [
    "one_dim.shape # kształt"
   ]
  },
  {
   "cell_type": "code",
   "execution_count": 15,
   "id": "d1ce9e02-576b-4f50-be54-102b43fe852c",
   "metadata": {},
   "outputs": [
    {
     "data": {
      "text/plain": [
       "1"
      ]
     },
     "execution_count": 15,
     "metadata": {},
     "output_type": "execute_result"
    }
   ],
   "source": [
    "one_dim.ndim # liczba wymiarów – w tym przypadku 1 wymiar"
   ]
  },
  {
   "cell_type": "code",
   "execution_count": 23,
   "id": "db26886d-43ab-4850-99ec-53a0265d13e9",
   "metadata": {},
   "outputs": [
    {
     "name": "stdout",
     "output_type": "stream",
     "text": [
      "(1, 4)\n"
     ]
    },
    {
     "data": {
      "text/plain": [
       "array([[1, 2, 3, 4]])"
      ]
     },
     "execution_count": 23,
     "metadata": {},
     "output_type": "execute_result"
    }
   ],
   "source": [
    "one_dim_horizontal = np.array([[1,2,3,4]])\n",
    "print(one_dim_horizontal.shape)\n",
    "one_dim_horizontal\n",
    "\n"
   ]
  },
  {
   "cell_type": "code",
   "execution_count": 25,
   "id": "cbe78c15-c5f2-4e27-b986-7bcd703fbc12",
   "metadata": {},
   "outputs": [
    {
     "data": {
      "text/plain": [
       "array([[1],\n",
       "       [2],\n",
       "       [3],\n",
       "       [4]])"
      ]
     },
     "execution_count": 25,
     "metadata": {},
     "output_type": "execute_result"
    }
   ],
   "source": [
    "one_dim_vertical = one_dim_horizontal.reshape(-1, 1)\n",
    "one_dim_vertical"
   ]
  },
  {
   "cell_type": "code",
   "execution_count": 27,
   "id": "6584128a-7e66-4a82-9d12-bcb24052e4aa",
   "metadata": {},
   "outputs": [
    {
     "data": {
      "text/plain": [
       "array([[1, 2, 3, 4]])"
      ]
     },
     "execution_count": 27,
     "metadata": {},
     "output_type": "execute_result"
    }
   ],
   "source": [
    "one_dim_vertical.reshape(1, -1)"
   ]
  },
  {
   "cell_type": "code",
   "execution_count": 29,
   "id": "e5715879-2cc1-49fd-9788-9e250805eda7",
   "metadata": {},
   "outputs": [
    {
     "name": "stdout",
     "output_type": "stream",
     "text": [
      "len: 3\n",
      "shape: (3, 4)\n",
      "ndim: 2\n"
     ]
    }
   ],
   "source": [
    "two_dim = np.array([[100, 200, 50, 400], [50, 0, 0, 100], [350, 100, 50, 200]])\n",
    "\n",
    "print(\"len: \" + str(len(two_dim)))\n",
    "print(\"shape: \" + str(two_dim.shape))\n",
    "print(\"ndim: \" + str(two_dim.ndim))"
   ]
  },
  {
   "cell_type": "code",
   "execution_count": 31,
   "id": "9305d5d6-bf46-4f03-8d39-ddcda2fcea3e",
   "metadata": {},
   "outputs": [
    {
     "data": {
      "text/plain": [
       "12"
      ]
     },
     "execution_count": 31,
     "metadata": {},
     "output_type": "execute_result"
    }
   ],
   "source": [
    "two_dim.size"
   ]
  },
  {
   "cell_type": "code",
   "execution_count": 33,
   "id": "5b9e5bd2-083e-48e2-aacc-37a337844983",
   "metadata": {},
   "outputs": [
    {
     "data": {
      "text/plain": [
       "4"
      ]
     },
     "execution_count": 33,
     "metadata": {},
     "output_type": "execute_result"
    }
   ],
   "source": [
    "two_dim.itemsize"
   ]
  },
  {
   "cell_type": "code",
   "execution_count": 35,
   "id": "093312aa-66e9-446c-81cb-667d9a7ef3dc",
   "metadata": {},
   "outputs": [
    {
     "data": {
      "text/plain": [
       "array([1, 2, 3, 4])"
      ]
     },
     "execution_count": 35,
     "metadata": {},
     "output_type": "execute_result"
    }
   ],
   "source": [
    "one_dim"
   ]
  },
  {
   "cell_type": "code",
   "execution_count": 37,
   "id": "e308c9e5-b4e1-4064-af8e-2b42f21b5538",
   "metadata": {},
   "outputs": [
    {
     "data": {
      "text/plain": [
       "array([[1, 2],\n",
       "       [3, 4]])"
      ]
     },
     "execution_count": 37,
     "metadata": {},
     "output_type": "execute_result"
    }
   ],
   "source": [
    "one_dim.reshape(2,2)"
   ]
  },
  {
   "cell_type": "code",
   "execution_count": 39,
   "id": "9dc9335c-3842-4667-91ed-808082c33f55",
   "metadata": {},
   "outputs": [
    {
     "data": {
      "text/plain": [
       "array([[100, 200,  50, 400],\n",
       "       [ 50,   0,   0, 100],\n",
       "       [350, 100,  50, 200]])"
      ]
     },
     "execution_count": 39,
     "metadata": {},
     "output_type": "execute_result"
    }
   ],
   "source": [
    "two_dim"
   ]
  },
  {
   "cell_type": "code",
   "execution_count": 41,
   "id": "ec20a6c5-9a45-4a1d-aede-004610c35a26",
   "metadata": {},
   "outputs": [
    {
     "data": {
      "text/plain": [
       "array([[100, 200,  50],\n",
       "       [400,  50,   0],\n",
       "       [  0, 100, 350],\n",
       "       [100,  50, 200]])"
      ]
     },
     "execution_count": 41,
     "metadata": {},
     "output_type": "execute_result"
    }
   ],
   "source": [
    "two_dim.reshape(4,3)"
   ]
  },
  {
   "cell_type": "code",
   "execution_count": 43,
   "id": "39601d86-5975-4fee-a093-6a431b96a005",
   "metadata": {},
   "outputs": [
    {
     "ename": "ValueError",
     "evalue": "cannot reshape array of size 12 into shape (4,4)",
     "output_type": "error",
     "traceback": [
      "\u001b[1;31m---------------------------------------------------------------------------\u001b[0m",
      "\u001b[1;31mValueError\u001b[0m                                Traceback (most recent call last)",
      "Cell \u001b[1;32mIn[43], line 1\u001b[0m\n\u001b[1;32m----> 1\u001b[0m two_dim\u001b[38;5;241m.\u001b[39mreshape(\u001b[38;5;241m4\u001b[39m,\u001b[38;5;241m4\u001b[39m)\n",
      "\u001b[1;31mValueError\u001b[0m: cannot reshape array of size 12 into shape (4,4)"
     ]
    }
   ],
   "source": [
    "two_dim.reshape(4,4)"
   ]
  },
  {
   "cell_type": "code",
   "execution_count": 45,
   "id": "2a880f3c-92d3-4839-9fae-6ac806caf002",
   "metadata": {},
   "outputs": [
    {
     "data": {
      "text/plain": [
       "array([100, 200,  50, 400,  50,   0,   0, 100, 350, 100,  50, 200])"
      ]
     },
     "execution_count": 45,
     "metadata": {},
     "output_type": "execute_result"
    }
   ],
   "source": [
    "two_dim.flatten()"
   ]
  },
  {
   "cell_type": "code",
   "execution_count": 47,
   "id": "38f444cf-e38f-4803-a94e-a0ae85b333c3",
   "metadata": {},
   "outputs": [
    {
     "data": {
      "text/plain": [
       "array([1, 2, 3, 4, 5])"
      ]
     },
     "execution_count": 47,
     "metadata": {},
     "output_type": "execute_result"
    }
   ],
   "source": [
    "my_list = [1,2,3,4,5]\n",
    "np.array(my_list)"
   ]
  },
  {
   "cell_type": "code",
   "execution_count": 49,
   "id": "d6b2dfa5-3b13-46ce-88b6-72b044d5e35c",
   "metadata": {},
   "outputs": [
    {
     "data": {
      "text/plain": [
       "array([1, 2, 3, 4, 5])"
      ]
     },
     "execution_count": 49,
     "metadata": {},
     "output_type": "execute_result"
    }
   ],
   "source": [
    "my_list = [1,2,3,4,5]\n",
    "np.array(my_list)"
   ]
  },
  {
   "cell_type": "code",
   "execution_count": 51,
   "id": "69f27df7-2914-4c83-a1e6-eebc519538a4",
   "metadata": {},
   "outputs": [
    {
     "data": {
      "text/plain": [
       "array([[1, 2, 3],\n",
       "       [4, 5, 6],\n",
       "       [7, 8, 9]])"
      ]
     },
     "execution_count": 51,
     "metadata": {},
     "output_type": "execute_result"
    }
   ],
   "source": [
    "my_nested_list = [[1,2,3],[4,5,6],[7,8,9]]\n",
    "np.array(my_nested_list)"
   ]
  },
  {
   "cell_type": "code",
   "execution_count": 53,
   "id": "78e329d3-caa0-4c8a-8c60-c83a637d6fec",
   "metadata": {},
   "outputs": [
    {
     "data": {
      "text/plain": [
       "array([ 0,  1,  2,  3,  4,  5,  6,  7,  8,  9, 10, 11, 12, 13, 14, 15, 16,\n",
       "       17, 18, 19])"
      ]
     },
     "execution_count": 53,
     "metadata": {},
     "output_type": "execute_result"
    }
   ],
   "source": [
    "np.arange(0,20)"
   ]
  },
  {
   "cell_type": "code",
   "execution_count": 55,
   "id": "5c99f7d5-53be-47fe-9f19-7ccf7bbcdd71",
   "metadata": {},
   "outputs": [
    {
     "data": {
      "text/plain": [
       "array([ 0,  2,  4,  6,  8, 10, 12, 14, 16, 18])"
      ]
     },
     "execution_count": 55,
     "metadata": {},
     "output_type": "execute_result"
    }
   ],
   "source": [
    "np.arange(0,20,2)"
   ]
  },
  {
   "cell_type": "code",
   "execution_count": 57,
   "id": "26c13827-8495-4813-a1fb-310bd95566f9",
   "metadata": {},
   "outputs": [
    {
     "data": {
      "text/plain": [
       "array([0., 0., 0.])"
      ]
     },
     "execution_count": 57,
     "metadata": {},
     "output_type": "execute_result"
    }
   ],
   "source": [
    "np.zeros(3)"
   ]
  },
  {
   "cell_type": "code",
   "execution_count": 59,
   "id": "61a9acac-6d8c-411c-b710-e0fcaa48d3e8",
   "metadata": {},
   "outputs": [
    {
     "data": {
      "text/plain": [
       "array([[0., 0., 0.],\n",
       "       [0., 0., 0.],\n",
       "       [0., 0., 0.],\n",
       "       [0., 0., 0.],\n",
       "       [0., 0., 0.]])"
      ]
     },
     "execution_count": 59,
     "metadata": {},
     "output_type": "execute_result"
    }
   ],
   "source": [
    "np.zeros((5,3))"
   ]
  },
  {
   "cell_type": "code",
   "execution_count": 61,
   "id": "76767bf4-8ab5-40f5-ac92-e5b8debf8ac2",
   "metadata": {},
   "outputs": [
    {
     "data": {
      "text/plain": [
       "array([1., 1., 1., 1., 1.])"
      ]
     },
     "execution_count": 61,
     "metadata": {},
     "output_type": "execute_result"
    }
   ],
   "source": [
    "np.ones(5)"
   ]
  },
  {
   "cell_type": "code",
   "execution_count": 63,
   "id": "d18667da-a691-4185-a3fb-55dd8670f9c6",
   "metadata": {},
   "outputs": [
    {
     "data": {
      "text/plain": [
       "array([[1., 1., 1.],\n",
       "       [1., 1., 1.]])"
      ]
     },
     "execution_count": 63,
     "metadata": {},
     "output_type": "execute_result"
    }
   ],
   "source": [
    "np.ones((2,3))"
   ]
  },
  {
   "cell_type": "code",
   "execution_count": 65,
   "id": "84d50de1-96be-4ec5-866f-ec8466bd4275",
   "metadata": {},
   "outputs": [
    {
     "data": {
      "text/plain": [
       "array([[1, 1, 1],\n",
       "       [1, 1, 1]], dtype=int8)"
      ]
     },
     "execution_count": 65,
     "metadata": {},
     "output_type": "execute_result"
    }
   ],
   "source": [
    "np.ones((2,3),dtype=np.int8)"
   ]
  },
  {
   "cell_type": "code",
   "execution_count": 67,
   "id": "47228eaf-de5c-4419-b466-72879b9ee7cc",
   "metadata": {},
   "outputs": [
    {
     "name": "stdout",
     "output_type": "stream",
     "text": [
      "[ 5 10 20] int32\n",
      "[ 5. 10. 20.] float64\n",
      "['5' '10' '20'] <U11\n"
     ]
    }
   ],
   "source": [
    "arr_01 = np.array([5, 10, 20])\n",
    "print(arr_01, arr_01.dtype)\n",
    "arr_02 = np.array([5, 10, 20.0])\n",
    "print(arr_02, arr_02.dtype)\n",
    "arr_03 = np.array([5, 10, '20'])\n",
    "print(arr_03, arr_03.dtype)"
   ]
  },
  {
   "cell_type": "code",
   "execution_count": 69,
   "id": "5cb42528-939d-4526-bd00-815f13a49f37",
   "metadata": {},
   "outputs": [
    {
     "data": {
      "text/plain": [
       "array([0.        , 0.55555556, 1.11111111, 1.66666667, 2.22222222,\n",
       "       2.77777778, 3.33333333, 3.88888889, 4.44444444, 5.        ])"
      ]
     },
     "execution_count": 69,
     "metadata": {},
     "output_type": "execute_result"
    }
   ],
   "source": [
    "np.linspace(0,5,10)"
   ]
  },
  {
   "cell_type": "code",
   "execution_count": 71,
   "id": "6a159e09-9dcc-4d37-bfae-9932eb8e93cf",
   "metadata": {},
   "outputs": [
    {
     "data": {
      "text/plain": [
       "array([[1., 0., 0., 0.],\n",
       "       [0., 1., 0., 0.],\n",
       "       [0., 0., 1., 0.],\n",
       "       [0., 0., 0., 1.]])"
      ]
     },
     "execution_count": 71,
     "metadata": {},
     "output_type": "execute_result"
    }
   ],
   "source": [
    "np.eye(4)"
   ]
  },
  {
   "cell_type": "code",
   "execution_count": 73,
   "id": "dfd0bead-0bc9-4611-8961-c728967c821c",
   "metadata": {},
   "outputs": [
    {
     "data": {
      "text/plain": [
       "array([[5, 0, 0, 0, 0, 0],\n",
       "       [0, 0, 0, 0, 0, 0],\n",
       "       [0, 0, 4, 0, 0, 0],\n",
       "       [0, 0, 0, 1, 0, 0],\n",
       "       [0, 0, 0, 0, 3, 0],\n",
       "       [0, 0, 0, 0, 0, 2]])"
      ]
     },
     "execution_count": 73,
     "metadata": {},
     "output_type": "execute_result"
    }
   ],
   "source": [
    "np.diag([5, 0, 4, 1, 3, 2])"
   ]
  },
  {
   "cell_type": "code",
   "execution_count": 75,
   "id": "5bbd0e4f-3bc4-45a1-9cf2-f083d2842a36",
   "metadata": {},
   "outputs": [
    {
     "data": {
      "text/plain": [
       "array([0.18873123, 0.34193106, 0.8083227 , 0.49968616, 0.30118006])"
      ]
     },
     "execution_count": 75,
     "metadata": {},
     "output_type": "execute_result"
    }
   ],
   "source": [
    "np.random.rand(5)"
   ]
  },
  {
   "cell_type": "code",
   "execution_count": 77,
   "id": "36791843-081f-4d6d-ba7e-9fb49b1533b3",
   "metadata": {
    "scrolled": true
   },
   "outputs": [
    {
     "data": {
      "text/plain": [
       "array([[[0.07580532, 0.74351235, 0.76421777, 0.05032807, 0.16257554],\n",
       "        [0.55478764, 0.4696453 , 0.89966488, 0.07632882, 0.20182047],\n",
       "        [0.76546644, 0.26452443, 0.89074682, 0.1997414 , 0.4439579 ],\n",
       "        [0.19842876, 0.81041249, 0.7406278 , 0.01139945, 0.0832902 ],\n",
       "        [0.00251768, 0.81257948, 0.72225089, 0.92160828, 0.14354121]],\n",
       "\n",
       "       [[0.33428139, 0.10885868, 0.44906022, 0.53179332, 0.37635549],\n",
       "        [0.064172  , 0.7051387 , 0.93983431, 0.54851938, 0.97741244],\n",
       "        [0.93383704, 0.80469147, 0.11559595, 0.93390884, 0.92917839],\n",
       "        [0.37172154, 0.03875003, 0.86755912, 0.00653761, 0.24491968],\n",
       "        [0.68774479, 0.6877509 , 0.90318221, 0.83491128, 0.0784455 ]],\n",
       "\n",
       "       [[0.27096644, 0.58535106, 0.05950668, 0.65390241, 0.50622136],\n",
       "        [0.44957054, 0.32099341, 0.73074308, 0.72262345, 0.48273986],\n",
       "        [0.78084826, 0.10430551, 0.22867251, 0.44727162, 0.06732746],\n",
       "        [0.4119079 , 0.94190933, 0.45673583, 0.45436787, 0.79329413],\n",
       "        [0.29086694, 0.78728572, 0.29251458, 0.70140382, 0.35772623]],\n",
       "\n",
       "       [[0.5025632 , 0.86373608, 0.41259596, 0.0151549 , 0.32574362],\n",
       "        [0.03225014, 0.64574935, 0.41251548, 0.94411486, 0.77144304],\n",
       "        [0.38478268, 0.24920811, 0.98938712, 0.77279169, 0.08214062],\n",
       "        [0.96752519, 0.98769447, 0.20198281, 0.41053222, 0.24897933],\n",
       "        [0.60131207, 0.00527229, 0.33895452, 0.41141856, 0.309548  ]],\n",
       "\n",
       "       [[0.16263576, 0.51880841, 0.49738741, 0.34126947, 0.94559334],\n",
       "        [0.70714777, 0.98862413, 0.99376869, 0.64889648, 0.31427975],\n",
       "        [0.36772369, 0.73362488, 0.54911134, 0.08491468, 0.77843309],\n",
       "        [0.14456978, 0.74069868, 0.17938255, 0.55060869, 0.18917032],\n",
       "        [0.57964055, 0.07065208, 0.57319027, 0.93989394, 0.61566705]]])"
      ]
     },
     "execution_count": 77,
     "metadata": {},
     "output_type": "execute_result"
    }
   ],
   "source": [
    "np.random.rand(5,5,5)"
   ]
  },
  {
   "cell_type": "code",
   "execution_count": 79,
   "id": "f949c7aa-6e3f-4f9a-a17a-8e9f3cd2683f",
   "metadata": {},
   "outputs": [
    {
     "data": {
      "text/plain": [
       "array([[[[0.77425266, 0.71354113, 0.25919988, 0.56084931, 0.25833998],\n",
       "         [0.7167198 , 0.74310866, 0.69570952, 0.42107316, 0.05661139],\n",
       "         [0.08898786, 0.73880085, 0.25676466, 0.70454379, 0.66392067],\n",
       "         [0.44447832, 0.44790732, 0.16758457, 0.3836503 , 0.64326355],\n",
       "         [0.78669304, 0.98097522, 0.47606876, 0.38989022, 0.57002738]],\n",
       "\n",
       "        [[0.63535859, 0.00109838, 0.57170685, 0.63511922, 0.89621878],\n",
       "         [0.30459726, 0.07558567, 0.24938101, 0.19109079, 0.62094346],\n",
       "         [0.21409263, 0.73779724, 0.07971531, 0.91092401, 0.69776227],\n",
       "         [0.9968085 , 0.48863697, 0.74764864, 0.84020976, 0.75281617],\n",
       "         [0.41503613, 0.46513178, 0.05094534, 0.09976384, 0.61636992]],\n",
       "\n",
       "        [[0.21425326, 0.2161834 , 0.35048884, 0.15159973, 0.3337074 ],\n",
       "         [0.85978467, 0.93517655, 0.90683663, 0.8753448 , 0.23163023],\n",
       "         [0.67404149, 0.97076865, 0.87755178, 0.03926098, 0.42062379],\n",
       "         [0.60657465, 0.33889188, 0.66503128, 0.21412139, 0.03333783],\n",
       "         [0.55485504, 0.86941272, 0.33754546, 0.71401983, 0.83947224]],\n",
       "\n",
       "        [[0.72306222, 0.5524038 , 0.53482655, 0.91457457, 0.18593043],\n",
       "         [0.46181283, 0.49805727, 0.89354255, 0.69345461, 0.89446741],\n",
       "         [0.44424527, 0.05536274, 0.83797743, 0.62202768, 0.54676951],\n",
       "         [0.69058328, 0.13285962, 0.13618834, 0.31384085, 0.86762507],\n",
       "         [0.46493205, 0.7974561 , 0.19376496, 0.01933899, 0.29818149]],\n",
       "\n",
       "        [[0.36016089, 0.27270564, 0.30644637, 0.2998577 , 0.71377799],\n",
       "         [0.56469724, 0.4989065 , 0.8420138 , 0.27194347, 0.43548468],\n",
       "         [0.77811011, 0.27292524, 0.62509975, 0.54138676, 0.6615272 ],\n",
       "         [0.03342254, 0.5903854 , 0.77757655, 0.55328916, 0.02508893],\n",
       "         [0.07726138, 0.07559398, 0.83460625, 0.27677331, 0.3558781 ]]],\n",
       "\n",
       "\n",
       "       [[[0.40822974, 0.60353272, 0.41496909, 0.91107489, 0.27798825],\n",
       "         [0.47745358, 0.09359012, 0.86737457, 0.5414411 , 0.60016186],\n",
       "         [0.87636039, 0.16577841, 0.85525582, 0.56869254, 0.19198395],\n",
       "         [0.03663289, 0.06352046, 0.65634923, 0.98441604, 0.82739162],\n",
       "         [0.11883444, 0.06170876, 0.08402913, 0.02898753, 0.14811746]],\n",
       "\n",
       "        [[0.2157508 , 0.392958  , 0.24785747, 0.80508844, 0.43998288],\n",
       "         [0.38856529, 0.75190495, 0.39866353, 0.90741469, 0.41748863],\n",
       "         [0.71278368, 0.00764382, 0.75826014, 0.88288545, 0.46984864],\n",
       "         [0.98397391, 0.37648886, 0.65100056, 0.72763389, 0.17864516],\n",
       "         [0.48427106, 0.23804348, 0.53876351, 0.04946708, 0.02679313]],\n",
       "\n",
       "        [[0.86116761, 0.60944533, 0.36939127, 0.55644866, 0.570516  ],\n",
       "         [0.1485309 , 0.66336278, 0.68896801, 0.0198242 , 0.00356095],\n",
       "         [0.03161425, 0.44044119, 0.90823171, 0.15606758, 0.68104504],\n",
       "         [0.40955984, 0.45620145, 0.20302317, 0.57784223, 0.94726636],\n",
       "         [0.73126729, 0.48532764, 0.0895785 , 0.52604913, 0.69861418]],\n",
       "\n",
       "        [[0.4022016 , 0.9684957 , 0.60502605, 0.82214275, 0.20683865],\n",
       "         [0.15551773, 0.01614   , 0.15621924, 0.20663229, 0.40877737],\n",
       "         [0.55825696, 0.94602074, 0.50857232, 0.21982582, 0.39673298],\n",
       "         [0.58509033, 0.46112104, 0.18919506, 0.5633158 , 0.17097389],\n",
       "         [0.72397333, 0.6794566 , 0.98615293, 0.99501432, 0.66169102]],\n",
       "\n",
       "        [[0.25977345, 0.23178941, 0.39494911, 0.60204132, 0.38293303],\n",
       "         [0.67821255, 0.61352263, 0.71777951, 0.7511629 , 0.77231774],\n",
       "         [0.09276847, 0.66388806, 0.48393746, 0.85392014, 0.66065651],\n",
       "         [0.52126203, 0.05354786, 0.95600945, 0.77906299, 0.76322478],\n",
       "         [0.10352963, 0.28090037, 0.98114253, 0.45141506, 0.11870573]]],\n",
       "\n",
       "\n",
       "       [[[0.87765047, 0.26452989, 0.61375019, 0.44955605, 0.17838902],\n",
       "         [0.78253824, 0.46058075, 0.74093747, 0.09720407, 0.43008172],\n",
       "         [0.53019889, 0.43322222, 0.83557791, 0.82948992, 0.71180618],\n",
       "         [0.83946004, 0.79065711, 0.77255978, 0.0496316 , 0.60895185],\n",
       "         [0.85100718, 0.43509144, 0.74654955, 0.87451862, 0.90351845]],\n",
       "\n",
       "        [[0.26570476, 0.89722837, 0.95964055, 0.15790387, 0.2127658 ],\n",
       "         [0.95577198, 0.65381393, 0.39781849, 0.36918249, 0.19309035],\n",
       "         [0.91868877, 0.44168168, 0.75194384, 0.76819905, 0.11060117],\n",
       "         [0.93601864, 0.91941103, 0.0032018 , 0.27479962, 0.93789291],\n",
       "         [0.81495026, 0.65779297, 0.67022026, 0.88006213, 0.24216806]],\n",
       "\n",
       "        [[0.1184898 , 0.00608047, 0.39129555, 0.91190543, 0.53386445],\n",
       "         [0.32351006, 0.56951114, 0.31272185, 0.60709482, 0.47806636],\n",
       "         [0.15813346, 0.78695155, 0.49442264, 0.64557578, 0.87778029],\n",
       "         [0.65765301, 0.4380204 , 0.49407648, 0.60514556, 0.08225296],\n",
       "         [0.34272264, 0.84435328, 0.1251264 , 0.51492683, 0.83314365]],\n",
       "\n",
       "        [[0.19661186, 0.19774874, 0.68139557, 0.24776149, 0.14982477],\n",
       "         [0.56765663, 0.28105645, 0.00945529, 0.65538741, 0.72403388],\n",
       "         [0.7587576 , 0.16756292, 0.3913908 , 0.67475641, 0.87826695],\n",
       "         [0.69518746, 0.00262809, 0.53392208, 0.50048002, 0.64685063],\n",
       "         [0.90866742, 0.92385521, 0.47342403, 0.97327211, 0.57458945]],\n",
       "\n",
       "        [[0.57666193, 0.91160426, 0.01961667, 0.06562709, 0.71914033],\n",
       "         [0.734052  , 0.03721009, 0.86307978, 0.76911119, 0.56642229],\n",
       "         [0.13018729, 0.53207326, 0.57275269, 0.72300808, 0.24354346],\n",
       "         [0.55303477, 0.76879499, 0.14885859, 0.8338762 , 0.65765856],\n",
       "         [0.67558947, 0.93003314, 0.77895428, 0.66415639, 0.452866  ]]],\n",
       "\n",
       "\n",
       "       [[[0.58374846, 0.31319247, 0.02820345, 0.14304009, 0.58718454],\n",
       "         [0.32429519, 0.75642334, 0.11855267, 0.3814266 , 0.80091254],\n",
       "         [0.32055286, 0.86730045, 0.28161787, 0.18923195, 0.33702916],\n",
       "         [0.30284034, 0.28239252, 0.51979375, 0.96133785, 0.75921055],\n",
       "         [0.25605596, 0.15403952, 0.81646493, 0.94324347, 0.43291693]],\n",
       "\n",
       "        [[0.20709536, 0.89043385, 0.28943145, 0.46482721, 0.94492757],\n",
       "         [0.11327764, 0.4909693 , 0.82322313, 0.83145065, 0.22375078],\n",
       "         [0.12665741, 0.82403109, 0.91575074, 0.79162917, 0.28053099],\n",
       "         [0.68055264, 0.53914948, 0.53868577, 0.74537495, 0.40186086],\n",
       "         [0.04030916, 0.95577149, 0.41291287, 0.257075  , 0.99250499]],\n",
       "\n",
       "        [[0.53422475, 0.35264542, 0.38226813, 0.0855559 , 0.18657198],\n",
       "         [0.38992301, 0.68635989, 0.58029829, 0.09385878, 0.86794966],\n",
       "         [0.54812892, 0.46250504, 0.61897156, 0.31294352, 0.08686755],\n",
       "         [0.73123738, 0.83252683, 0.11814717, 0.78226992, 0.74995992],\n",
       "         [0.60055525, 0.49846263, 0.96507459, 0.86808785, 0.58623132]],\n",
       "\n",
       "        [[0.93562029, 0.87567951, 0.21112717, 0.87693396, 0.29091431],\n",
       "         [0.81000232, 0.07392762, 0.19087712, 0.72105086, 0.18446172],\n",
       "         [0.93047545, 0.09551011, 0.26047927, 0.50704752, 0.63526376],\n",
       "         [0.16156316, 0.71671492, 0.1361863 , 0.29700524, 0.3055989 ],\n",
       "         [0.28652272, 0.91907556, 0.28220566, 0.54953746, 0.42276098]],\n",
       "\n",
       "        [[0.90177599, 0.34275635, 0.22043591, 0.4166325 , 0.83457424],\n",
       "         [0.25634238, 0.6976998 , 0.82295378, 0.76964197, 0.06473233],\n",
       "         [0.14788817, 0.46212069, 0.55878915, 0.71313975, 0.16877005],\n",
       "         [0.59525435, 0.69266487, 0.66276114, 0.06266793, 0.86320178],\n",
       "         [0.55351822, 0.3233261 , 0.292385  , 0.36787499, 0.59485987]]],\n",
       "\n",
       "\n",
       "       [[[0.08289961, 0.85386596, 0.4708532 , 0.7039103 , 0.45343536],\n",
       "         [0.86712277, 0.38082124, 0.05443042, 0.03557359, 0.78015452],\n",
       "         [0.50391327, 0.25812721, 0.12715167, 0.83697737, 0.81279204],\n",
       "         [0.92011398, 0.38399579, 0.74155601, 0.03499299, 0.48349559],\n",
       "         [0.74394218, 0.23382001, 0.34424424, 0.6847514 , 0.47501589]],\n",
       "\n",
       "        [[0.10714381, 0.25461756, 0.79940212, 0.88151893, 0.36095151],\n",
       "         [0.00974914, 0.22615187, 0.68210336, 0.50229651, 0.84196368],\n",
       "         [0.31110872, 0.16975626, 0.26785711, 0.22398128, 0.28785451],\n",
       "         [0.25555928, 0.26063609, 0.41181586, 0.33932127, 0.60215236],\n",
       "         [0.47248989, 0.35426989, 0.66514209, 0.7513942 , 0.81837539]],\n",
       "\n",
       "        [[0.79410716, 0.9190634 , 0.60617053, 0.24393049, 0.73194586],\n",
       "         [0.36372309, 0.23285358, 0.07526682, 0.10554855, 0.30893424],\n",
       "         [0.28926261, 0.16944356, 0.43132022, 0.58898903, 0.7890192 ],\n",
       "         [0.93717809, 0.88201213, 0.65523187, 0.9964257 , 0.05187409],\n",
       "         [0.23655488, 0.86863459, 0.03988847, 0.38810527, 0.52266376]],\n",
       "\n",
       "        [[0.27642219, 0.70894637, 0.46953295, 0.20866761, 0.8542307 ],\n",
       "         [0.6374729 , 0.91994363, 0.47329667, 0.03205511, 0.17589565],\n",
       "         [0.91039555, 0.31461043, 0.15165204, 0.63378193, 0.29437935],\n",
       "         [0.37724669, 0.18074697, 0.66510338, 0.56306517, 0.78006878],\n",
       "         [0.99514803, 0.3435263 , 0.91235359, 0.85254114, 0.04242061]],\n",
       "\n",
       "        [[0.67377496, 0.78163474, 0.10719155, 0.92014123, 0.26238706],\n",
       "         [0.5205401 , 0.24831495, 0.6576964 , 0.90649644, 0.38111997],\n",
       "         [0.90764833, 0.52424937, 0.65655494, 0.1595148 , 0.65457893],\n",
       "         [0.16497601, 0.48956594, 0.23973383, 0.01406446, 0.00675344],\n",
       "         [0.81389635, 0.51976367, 0.08555473, 0.55206331, 0.27963362]]]])"
      ]
     },
     "execution_count": 79,
     "metadata": {},
     "output_type": "execute_result"
    }
   ],
   "source": [
    "np.random.rand(5,5,5,5)"
   ]
  },
  {
   "cell_type": "code",
   "execution_count": 81,
   "id": "594990f3-34e8-4cf9-a838-bc6c875155a1",
   "metadata": {},
   "outputs": [
    {
     "data": {
      "text/plain": [
       "array([83, 78, 15, 13, 46, 72, 94, 17, 90, 40])"
      ]
     },
     "execution_count": 81,
     "metadata": {},
     "output_type": "execute_result"
    }
   ],
   "source": [
    "np.random.randint(1,100,10)"
   ]
  },
  {
   "cell_type": "code",
   "execution_count": 83,
   "id": "4ed61ccf-c6d4-4d26-be9d-1f3d2a20f56b",
   "metadata": {},
   "outputs": [
    {
     "data": {
      "text/plain": [
       "array([0, 0, 0, 0, 0, 0, 0, 0, 0, 0])"
      ]
     },
     "execution_count": 83,
     "metadata": {},
     "output_type": "execute_result"
    }
   ],
   "source": [
    "np.random.randint(0,1,10)\n"
   ]
  },
  {
   "cell_type": "code",
   "execution_count": 85,
   "id": "0551abb1-097c-4e8c-ae94-7da807c172d2",
   "metadata": {},
   "outputs": [
    {
     "data": {
      "text/plain": [
       "array([1, 0, 1, 1, 0, 1, 1, 1, 0, 1])"
      ]
     },
     "execution_count": 85,
     "metadata": {},
     "output_type": "execute_result"
    }
   ],
   "source": [
    "np.random.randint(0,2,10)"
   ]
  },
  {
   "cell_type": "code",
   "execution_count": 87,
   "id": "3b3dfeae-f5bb-4b47-bbe8-837b99b49ed7",
   "metadata": {},
   "outputs": [
    {
     "name": "stdout",
     "output_type": "stream",
     "text": [
      "[[0 1 2 3 4]\n",
      " [0 1 2 3 4]\n",
      " [0 1 2 3 4]\n",
      " [0 1 2 3 4]\n",
      " [0 1 2 3 4]]\n"
     ]
    }
   ],
   "source": [
    "matrix = np.tile(np.arange(5), (5, 1))\n",
    "print(matrix)"
   ]
  },
  {
   "cell_type": "code",
   "execution_count": 89,
   "id": "91873d39-437d-4145-87c6-ee12aab025b2",
   "metadata": {},
   "outputs": [
    {
     "data": {
      "text/plain": [
       "array([ 0,  1,  2,  3,  4,  5,  6,  7,  8,  9, 10, 11, 12, 13, 14, 15, 16,\n",
       "       17, 18, 19, 20])"
      ]
     },
     "execution_count": 89,
     "metadata": {},
     "output_type": "execute_result"
    }
   ],
   "source": [
    "my_arr = np.arange(21)\n",
    "my_arr"
   ]
  },
  {
   "cell_type": "code",
   "execution_count": 91,
   "id": "9a46048f-0356-420f-8dcc-2123d132928c",
   "metadata": {},
   "outputs": [
    {
     "data": {
      "text/plain": [
       "10"
      ]
     },
     "execution_count": 91,
     "metadata": {},
     "output_type": "execute_result"
    }
   ],
   "source": [
    "my_arr[10]"
   ]
  },
  {
   "cell_type": "code",
   "execution_count": 93,
   "id": "b803adb1-e532-4989-9c3b-123fadb76233",
   "metadata": {},
   "outputs": [
    {
     "data": {
      "text/plain": [
       "array([ 5, 10])"
      ]
     },
     "execution_count": 93,
     "metadata": {},
     "output_type": "execute_result"
    }
   ],
   "source": [
    "my_arr[5:15:5]"
   ]
  },
  {
   "cell_type": "code",
   "execution_count": 95,
   "id": "9b1a4933-b671-4747-8261-8b5a1c13df3e",
   "metadata": {},
   "outputs": [
    {
     "data": {
      "text/plain": [
       "array([ 5, 10, 15])"
      ]
     },
     "execution_count": 95,
     "metadata": {},
     "output_type": "execute_result"
    }
   ],
   "source": [
    "my_arr[5:20:5]"
   ]
  },
  {
   "cell_type": "code",
   "execution_count": 97,
   "id": "d7b07886-89e0-4f4f-9377-6bd7d560e98c",
   "metadata": {},
   "outputs": [
    {
     "data": {
      "text/plain": [
       "array([], dtype=int32)"
      ]
     },
     "execution_count": 97,
     "metadata": {},
     "output_type": "execute_result"
    }
   ],
   "source": [
    "my_arr[5:5:5]"
   ]
  },
  {
   "cell_type": "code",
   "execution_count": 99,
   "id": "844b0e82-685e-4b21-a55d-fab81988cd6e",
   "metadata": {},
   "outputs": [
    {
     "data": {
      "text/plain": [
       "array([[  0,  10,  20],\n",
       "       [  5,  15,  25],\n",
       "       [100, 200, 300]])"
      ]
     },
     "execution_count": 99,
     "metadata": {},
     "output_type": "execute_result"
    }
   ],
   "source": [
    "two_dim = np.array([[0,10,20],[5,15,25],[100,200,300]])\n",
    "two_dim"
   ]
  },
  {
   "cell_type": "code",
   "execution_count": 101,
   "id": "1b28db83-a81f-4faa-91d3-d2b015bd91ce",
   "metadata": {},
   "outputs": [
    {
     "ename": "NameError",
     "evalue": "name 'v' is not defined",
     "output_type": "error",
     "traceback": [
      "\u001b[1;31m---------------------------------------------------------------------------\u001b[0m",
      "\u001b[1;31mNameError\u001b[0m                                 Traceback (most recent call last)",
      "Cell \u001b[1;32mIn[101], line 1\u001b[0m\n\u001b[1;32m----> 1\u001b[0m v\n",
      "\u001b[1;31mNameError\u001b[0m: name 'v' is not defined"
     ]
    }
   ],
   "source": [
    "v"
   ]
  },
  {
   "cell_type": "code",
   "execution_count": 103,
   "id": "2d14a20c-8aac-4973-a9dd-72ae91badd10",
   "metadata": {},
   "outputs": [
    {
     "data": {
      "text/plain": [
       "array([ 0, 10, 20])"
      ]
     },
     "execution_count": 103,
     "metadata": {},
     "output_type": "execute_result"
    }
   ],
   "source": [
    "two_dim[0]"
   ]
  },
  {
   "cell_type": "code",
   "execution_count": 105,
   "id": "484c45c9-0c09-4296-a6e3-60e082017aa1",
   "metadata": {},
   "outputs": [
    {
     "data": {
      "text/plain": [
       "100"
      ]
     },
     "execution_count": 105,
     "metadata": {},
     "output_type": "execute_result"
    }
   ],
   "source": [
    "two_dim[2][0]"
   ]
  },
  {
   "cell_type": "code",
   "execution_count": 107,
   "id": "df638c00-3889-4945-9872-8d8c54a45c21",
   "metadata": {},
   "outputs": [
    {
     "data": {
      "text/plain": [
       "array([[  5,  15],\n",
       "       [100, 200]])"
      ]
     },
     "execution_count": 107,
     "metadata": {},
     "output_type": "execute_result"
    }
   ],
   "source": [
    "two_dim[1:3,:2]"
   ]
  },
  {
   "cell_type": "code",
   "execution_count": 109,
   "id": "5587660e-8f09-4b11-9e5d-94dc9599f93c",
   "metadata": {},
   "outputs": [
    {
     "data": {
      "text/plain": [
       "array([[  5,  15,  25],\n",
       "       [100, 200, 300]])"
      ]
     },
     "execution_count": 109,
     "metadata": {},
     "output_type": "execute_result"
    }
   ],
   "source": [
    "two_dim[1:3,:11]"
   ]
  },
  {
   "cell_type": "code",
   "execution_count": 111,
   "id": "f363c276-4f9e-4c5c-8d71-4f1003e64458",
   "metadata": {},
   "outputs": [
    {
     "data": {
      "text/plain": [
       "array([[  5],\n",
       "       [100]])"
      ]
     },
     "execution_count": 111,
     "metadata": {},
     "output_type": "execute_result"
    }
   ],
   "source": [
    "two_dim[1:3,:1]"
   ]
  },
  {
   "cell_type": "code",
   "execution_count": 113,
   "id": "a5cb3910-c040-4beb-8a6b-bab93bd5101e",
   "metadata": {},
   "outputs": [
    {
     "data": {
      "text/plain": [
       "array([[  5,  15],\n",
       "       [100, 200]])"
      ]
     },
     "execution_count": 113,
     "metadata": {},
     "output_type": "execute_result"
    }
   ],
   "source": [
    "two_dim[1:3,:2]"
   ]
  },
  {
   "cell_type": "code",
   "execution_count": 115,
   "id": "8f973511-0977-48c1-9c35-b6d5764eb877",
   "metadata": {},
   "outputs": [
    {
     "data": {
      "text/plain": [
       "array([[ 0, 10, 20],\n",
       "       [ 5, 15, 25]])"
      ]
     },
     "execution_count": 115,
     "metadata": {},
     "output_type": "execute_result"
    }
   ],
   "source": [
    "two_dim[(0,1),]"
   ]
  },
  {
   "cell_type": "code",
   "execution_count": null,
   "id": "c8decb1e-3fec-41a1-95d8-5a0d7b7b1095",
   "metadata": {},
   "outputs": [],
   "source": []
  },
  {
   "cell_type": "code",
   "execution_count": 118,
   "id": "2d85dc14-18f6-401b-a5b1-7b4eef0ef98c",
   "metadata": {},
   "outputs": [
    {
     "data": {
      "text/plain": [
       "10"
      ]
     },
     "execution_count": 118,
     "metadata": {},
     "output_type": "execute_result"
    }
   ],
   "source": [
    "two_dim[(0,1)]"
   ]
  },
  {
   "cell_type": "code",
   "execution_count": 120,
   "id": "bc9fd79c-d5b1-422e-9217-b0977e063291",
   "metadata": {},
   "outputs": [
    {
     "data": {
      "text/plain": [
       "array([[ 0,  1,  2,  3,  4],\n",
       "       [ 5,  6,  7,  8,  9],\n",
       "       [10, 11, 12, 13, 14],\n",
       "       [15, 16, 17, 18, 19],\n",
       "       [20, 21, 22, 23, 24]])"
      ]
     },
     "execution_count": 120,
     "metadata": {},
     "output_type": "execute_result"
    }
   ],
   "source": [
    "my_arr = np.arange(25).reshape(5,5)\n",
    "my_arr"
   ]
  },
  {
   "cell_type": "code",
   "execution_count": 122,
   "id": "f19a31ce-3fc5-44c8-8e7e-2e7810f8bb5f",
   "metadata": {},
   "outputs": [
    {
     "data": {
      "text/plain": [
       "array([0, 9])"
      ]
     },
     "execution_count": 122,
     "metadata": {},
     "output_type": "execute_result"
    }
   ],
   "source": [
    "my_arr[[0,1],[0,4]]"
   ]
  },
  {
   "cell_type": "code",
   "execution_count": 124,
   "id": "37c18ee7-3b20-4575-840d-e63f5db3cd4f",
   "metadata": {},
   "outputs": [
    {
     "data": {
      "text/plain": [
       "array([0, 4])"
      ]
     },
     "execution_count": 124,
     "metadata": {},
     "output_type": "execute_result"
    }
   ],
   "source": [
    "my_arr[[0,0],[0,4]]"
   ]
  },
  {
   "cell_type": "code",
   "execution_count": 126,
   "id": "80a482fd-db7d-4b10-ac89-4f0d1890eed9",
   "metadata": {},
   "outputs": [
    {
     "data": {
      "text/plain": [
       "array([ 0, 14])"
      ]
     },
     "execution_count": 126,
     "metadata": {},
     "output_type": "execute_result"
    }
   ],
   "source": [
    "my_arr[[0,2],[0,4]]"
   ]
  },
  {
   "cell_type": "code",
   "execution_count": 128,
   "id": "cc251094-d02e-4cbc-bb39-cbfe08c49d82",
   "metadata": {},
   "outputs": [
    {
     "data": {
      "text/plain": [
       "array([ 0, 19])"
      ]
     },
     "execution_count": 128,
     "metadata": {},
     "output_type": "execute_result"
    }
   ],
   "source": [
    "my_arr[[0,3],[0,4]]"
   ]
  },
  {
   "cell_type": "code",
   "execution_count": 130,
   "id": "8543017b-e8c7-4a79-9bf2-d2334f72c092",
   "metadata": {},
   "outputs": [
    {
     "data": {
      "text/plain": [
       "array([5, 9])"
      ]
     },
     "execution_count": 130,
     "metadata": {},
     "output_type": "execute_result"
    }
   ],
   "source": [
    "my_arr[[1,1],[0,4]]"
   ]
  },
  {
   "cell_type": "code",
   "execution_count": 132,
   "id": "6e631db0-d0f2-407d-996c-183a855dafc0",
   "metadata": {},
   "outputs": [
    {
     "data": {
      "text/plain": [
       "array([[0, 1, 0],\n",
       "       [0, 2, 1],\n",
       "       [1, 2, 2],\n",
       "       [2, 1, 2]])"
      ]
     },
     "execution_count": 132,
     "metadata": {},
     "output_type": "execute_result"
    }
   ],
   "source": [
    "vals = np.array([100,5,0])\n",
    "select = np.random.randint(0,3,size=(4,3))\n",
    "select"
   ]
  },
  {
   "cell_type": "code",
   "execution_count": 134,
   "id": "4ad0517e-cb4f-478e-8472-385aa1d8e989",
   "metadata": {},
   "outputs": [
    {
     "data": {
      "text/plain": [
       "array([[100,   5, 100],\n",
       "       [100,   0,   5],\n",
       "       [  5,   0,   0],\n",
       "       [  0,   5,   0]])"
      ]
     },
     "execution_count": 134,
     "metadata": {},
     "output_type": "execute_result"
    }
   ],
   "source": [
    "vals[select]"
   ]
  },
  {
   "cell_type": "code",
   "execution_count": 136,
   "id": "8bb88b2f-b36d-4fee-a49b-5ec7744d4ce6",
   "metadata": {},
   "outputs": [
    {
     "data": {
      "text/plain": [
       "array([  5, 100,   0])"
      ]
     },
     "execution_count": 136,
     "metadata": {},
     "output_type": "execute_result"
    }
   ],
   "source": [
    "vals[[1,0,2]]"
   ]
  },
  {
   "cell_type": "code",
   "execution_count": 138,
   "id": "5addba37-c599-4ccd-a7b1-be18f3b61b18",
   "metadata": {},
   "outputs": [
    {
     "ename": "NameError",
     "evalue": "name 'slice_of_arr' is not defined",
     "output_type": "error",
     "traceback": [
      "\u001b[1;31m---------------------------------------------------------------------------\u001b[0m",
      "\u001b[1;31mNameError\u001b[0m                                 Traceback (most recent call last)",
      "Cell \u001b[1;32mIn[138], line 1\u001b[0m\n\u001b[1;32m----> 1\u001b[0m slice_of_arr[:] \u001b[38;5;241m=\u001b[39m \u001b[38;5;241m100\u001b[39m\n\u001b[0;32m      2\u001b[0m slice_of_arr\n",
      "\u001b[1;31mNameError\u001b[0m: name 'slice_of_arr' is not defined"
     ]
    }
   ],
   "source": [
    "slice_of_arr[:] = 100\n",
    "slice_of_arr"
   ]
  },
  {
   "cell_type": "code",
   "execution_count": 140,
   "id": "7f42c36f-f747-4528-b76e-23e94a8c7f36",
   "metadata": {},
   "outputs": [
    {
     "ename": "NameError",
     "evalue": "name 'slice_of_arr' is not defined",
     "output_type": "error",
     "traceback": [
      "\u001b[1;31m---------------------------------------------------------------------------\u001b[0m",
      "\u001b[1;31mNameError\u001b[0m                                 Traceback (most recent call last)",
      "Cell \u001b[1;32mIn[140], line 1\u001b[0m\n\u001b[1;32m----> 1\u001b[0m slice_of_arr[:] \u001b[38;5;241m=\u001b[39m \u001b[38;5;241m100\u001b[39m\n\u001b[0;32m      2\u001b[0m slice_of_arr\n",
      "\u001b[1;31mNameError\u001b[0m: name 'slice_of_arr' is not defined"
     ]
    }
   ],
   "source": [
    "slice_of_arr[:] = 100\n",
    "slice_of_arr"
   ]
  },
  {
   "cell_type": "code",
   "execution_count": 142,
   "id": "919fa1d8-1b8f-4eb0-bb66-fa4df8c21265",
   "metadata": {},
   "outputs": [
    {
     "ename": "NameError",
     "evalue": "name 'arr' is not defined",
     "output_type": "error",
     "traceback": [
      "\u001b[1;31m---------------------------------------------------------------------------\u001b[0m",
      "\u001b[1;31mNameError\u001b[0m                                 Traceback (most recent call last)",
      "Cell \u001b[1;32mIn[142], line 1\u001b[0m\n\u001b[1;32m----> 1\u001b[0m slice_of_arr \u001b[38;5;241m=\u001b[39m arr[:\u001b[38;5;241m5\u001b[39m]\n\u001b[0;32m      2\u001b[0m slice_of_arr\n",
      "\u001b[1;31mNameError\u001b[0m: name 'arr' is not defined"
     ]
    }
   ],
   "source": [
    "slice_of_arr = arr[:5]\n",
    "slice_of_arr"
   ]
  },
  {
   "cell_type": "code",
   "execution_count": 144,
   "id": "d7ce6908-ee42-4d49-ab42-bbd528ad1a48",
   "metadata": {},
   "outputs": [
    {
     "data": {
      "text/plain": [
       "array([0, 1, 2, 3, 4, 5, 6, 7, 8, 9])"
      ]
     },
     "execution_count": 144,
     "metadata": {},
     "output_type": "execute_result"
    }
   ],
   "source": [
    "arr = np.arange(10)\n",
    "arr"
   ]
  },
  {
   "cell_type": "code",
   "execution_count": null,
   "id": "8ab5bd8c-b32f-4ba5-b393-cf7dafa7f4e2",
   "metadata": {},
   "outputs": [],
   "source": []
  },
  {
   "cell_type": "code",
   "execution_count": 147,
   "id": "aa2f3a58-b849-405a-a884-8140fd3ab3b5",
   "metadata": {},
   "outputs": [
    {
     "data": {
      "text/plain": [
       "array([0, 1, 2, 3, 4])"
      ]
     },
     "execution_count": 147,
     "metadata": {},
     "output_type": "execute_result"
    }
   ],
   "source": [
    "slice_of_arr = arr[:5]\n",
    "slice_of_arr"
   ]
  },
  {
   "cell_type": "code",
   "execution_count": 149,
   "id": "feec8e16-cc9d-423a-a3fd-f41a1e7a6586",
   "metadata": {},
   "outputs": [
    {
     "data": {
      "text/plain": [
       "array([100, 100, 100, 100, 100])"
      ]
     },
     "execution_count": 149,
     "metadata": {},
     "output_type": "execute_result"
    }
   ],
   "source": [
    "slice_of_arr[:] = 100\n",
    "slice_of_arr"
   ]
  },
  {
   "cell_type": "code",
   "execution_count": 151,
   "id": "3fcefbce-1ae7-451b-9cc5-a24068f0fd67",
   "metadata": {},
   "outputs": [
    {
     "data": {
      "text/plain": [
       "array([100, 100, 100, 100, 100,   5,   6,   7,   8,   9])"
      ]
     },
     "execution_count": 151,
     "metadata": {},
     "output_type": "execute_result"
    }
   ],
   "source": [
    "arr"
   ]
  },
  {
   "cell_type": "code",
   "execution_count": 153,
   "id": "84a90115-da5d-4818-9c3a-c78a52b5e529",
   "metadata": {},
   "outputs": [
    {
     "data": {
      "text/plain": [
       "False"
      ]
     },
     "execution_count": 153,
     "metadata": {},
     "output_type": "execute_result"
    }
   ],
   "source": [
    "slice_of_arr.base is None"
   ]
  },
  {
   "cell_type": "code",
   "execution_count": 155,
   "id": "43a2a9eb-8e72-4691-81c0-cfc51e0441d8",
   "metadata": {},
   "outputs": [
    {
     "ename": "NameError",
     "evalue": "name 'fancy_index_arr' is not defined",
     "output_type": "error",
     "traceback": [
      "\u001b[1;31m---------------------------------------------------------------------------\u001b[0m",
      "\u001b[1;31mNameError\u001b[0m                                 Traceback (most recent call last)",
      "Cell \u001b[1;32mIn[155], line 1\u001b[0m\n\u001b[1;32m----> 1\u001b[0m fancy_index_arr\u001b[38;5;241m.\u001b[39mbase \u001b[38;5;129;01mis\u001b[39;00m \u001b[38;5;28;01mNone\u001b[39;00m\n",
      "\u001b[1;31mNameError\u001b[0m: name 'fancy_index_arr' is not defined"
     ]
    }
   ],
   "source": [
    "fancy_index_arr.base is None"
   ]
  },
  {
   "cell_type": "code",
   "execution_count": 157,
   "id": "4502ad40-c34c-493c-a5f3-128239a1708e",
   "metadata": {},
   "outputs": [
    {
     "data": {
      "text/plain": [
       "True"
      ]
     },
     "execution_count": 157,
     "metadata": {},
     "output_type": "execute_result"
    }
   ],
   "source": [
    "slice_of_arr.base is arr"
   ]
  },
  {
   "cell_type": "code",
   "execution_count": 159,
   "id": "7b0c7fe5-beca-4fcd-be27-f127c8a305d5",
   "metadata": {},
   "outputs": [
    {
     "name": "stdout",
     "output_type": "stream",
     "text": [
      "arr\n",
      "[0 1 2 3 4 5 6 7 8 9]\n",
      "slice_of_arr\n",
      "[0 1 2 3 4]\n",
      "slice_of_arr\n",
      "[100 100 100 100 100]\n",
      "arr\n",
      "[0 1 2 3 4 5 6 7 8 9]\n"
     ]
    }
   ],
   "source": [
    "arr = np.arange(10)\n",
    "print('arr')\n",
    "print(arr)\n",
    "\n",
    "slice_of_arr = arr[:5].copy()\n",
    "print('slice_of_arr')\n",
    "print(slice_of_arr)\n",
    "\n",
    "slice_of_arr[:] = 100\n",
    "print('slice_of_arr')\n",
    "print(slice_of_arr)\n",
    "\n",
    "print('arr')\n",
    "print(arr)"
   ]
  },
  {
   "cell_type": "code",
   "execution_count": 2,
   "id": "062a5c61-07b5-4d98-be2b-78dfcc79f637",
   "metadata": {},
   "outputs": [
    {
     "name": "stdout",
     "output_type": "stream",
     "text": [
      "[[1 2 3 4 5]\n",
      " [1 2 3 4 5]\n",
      " [1 2 3 4 5]\n",
      " [1 2 3 4 5]\n",
      " [1 2 3 4 5]]\n"
     ]
    }
   ],
   "source": [
    "import numpy as np\n",
    "\n",
    "matrix = np.tile(np.arange(1, 6), (5, 1))\n",
    "print(matrix)"
   ]
  },
  {
   "cell_type": "code",
   "execution_count": 4,
   "id": "9b194cde-e955-42a6-b4cd-00704b70b6ca",
   "metadata": {},
   "outputs": [
    {
     "data": {
      "text/plain": [
       "array([ 0,  1,  2,  3,  4,  5,  6,  7,  8,  9, 10, 11, 12, 13, 14, 15, 16,\n",
       "       17, 18, 19, 20])"
      ]
     },
     "execution_count": 4,
     "metadata": {},
     "output_type": "execute_result"
    }
   ],
   "source": [
    "import numpy as np\n",
    "my_arr = np.arange(21)\n",
    "my_arr"
   ]
  },
  {
   "cell_type": "code",
   "execution_count": 6,
   "id": "19b1bbff-e883-41c9-9806-5b98665554ca",
   "metadata": {},
   "outputs": [
    {
     "data": {
      "text/plain": [
       "10"
      ]
     },
     "execution_count": 6,
     "metadata": {},
     "output_type": "execute_result"
    }
   ],
   "source": [
    "my_arr[10]"
   ]
  },
  {
   "cell_type": "code",
   "execution_count": 8,
   "id": "debae5ce-c3dc-4a6a-9960-d9010d176afa",
   "metadata": {},
   "outputs": [
    {
     "data": {
      "text/plain": [
       "array([ 5,  6,  7,  8,  9, 10, 11, 12, 13, 14])"
      ]
     },
     "execution_count": 8,
     "metadata": {},
     "output_type": "execute_result"
    }
   ],
   "source": [
    "my_arr[5:15]"
   ]
  },
  {
   "cell_type": "code",
   "execution_count": 10,
   "id": "540b02e7-6973-4a28-8df7-2fe035b8c151",
   "metadata": {},
   "outputs": [
    {
     "data": {
      "text/plain": [
       "array([ 5, 10])"
      ]
     },
     "execution_count": 10,
     "metadata": {},
     "output_type": "execute_result"
    }
   ],
   "source": [
    "my_arr[5:15:5]"
   ]
  },
  {
   "cell_type": "code",
   "execution_count": 12,
   "id": "697e409d-f230-4220-ba24-670b40097442",
   "metadata": {},
   "outputs": [
    {
     "data": {
      "text/plain": [
       "array([ 5, 11])"
      ]
     },
     "execution_count": 12,
     "metadata": {},
     "output_type": "execute_result"
    }
   ],
   "source": [
    "my_arr[5:15:6]"
   ]
  },
  {
   "cell_type": "code",
   "execution_count": 14,
   "id": "87dda76f-2ee7-441d-9c88-4c1b74326443",
   "metadata": {},
   "outputs": [
    {
     "data": {
      "text/plain": [
       "array([[  0,  10,  20],\n",
       "       [  5,  15,  25],\n",
       "       [100, 200, 300]])"
      ]
     },
     "execution_count": 14,
     "metadata": {},
     "output_type": "execute_result"
    }
   ],
   "source": [
    "two_dim = np.array([[0,10,20],[5,15,25],[100,200,300]])\n",
    "two_dim"
   ]
  },
  {
   "cell_type": "code",
   "execution_count": 16,
   "id": "3caeb120-ff6f-4b23-8a4e-0b690c978d7f",
   "metadata": {},
   "outputs": [
    {
     "data": {
      "text/plain": [
       "array([ 0, 10, 20])"
      ]
     },
     "execution_count": 16,
     "metadata": {},
     "output_type": "execute_result"
    }
   ],
   "source": [
    "two_dim[0]"
   ]
  },
  {
   "cell_type": "code",
   "execution_count": 18,
   "id": "66bbfe3c-9e32-4a43-a7b5-bb0614fa7f94",
   "metadata": {},
   "outputs": [
    {
     "data": {
      "text/plain": [
       "5"
      ]
     },
     "execution_count": 18,
     "metadata": {},
     "output_type": "execute_result"
    }
   ],
   "source": [
    "two_dim[1][0]"
   ]
  },
  {
   "cell_type": "code",
   "execution_count": 20,
   "id": "12509dc7-ff77-4916-9f5f-1672561468a0",
   "metadata": {},
   "outputs": [
    {
     "data": {
      "text/plain": [
       "15"
      ]
     },
     "execution_count": 20,
     "metadata": {},
     "output_type": "execute_result"
    }
   ],
   "source": [
    "two_dim[1][1]"
   ]
  },
  {
   "cell_type": "code",
   "execution_count": 22,
   "id": "691d2075-b395-43bb-93b7-e0f8c4e467cb",
   "metadata": {},
   "outputs": [
    {
     "data": {
      "text/plain": [
       "array([[  5,  15],\n",
       "       [100, 200]])"
      ]
     },
     "execution_count": 22,
     "metadata": {},
     "output_type": "execute_result"
    }
   ],
   "source": [
    "two_dim[1:3,:2]"
   ]
  },
  {
   "cell_type": "code",
   "execution_count": 24,
   "id": "94be2ee3-6d8c-40c5-8a43-17dd5465c916",
   "metadata": {},
   "outputs": [
    {
     "data": {
      "text/plain": [
       "array([[  5,  15,  25],\n",
       "       [100, 200, 300]])"
      ]
     },
     "execution_count": 24,
     "metadata": {},
     "output_type": "execute_result"
    }
   ],
   "source": [
    "two_dim[1:3,:3]"
   ]
  },
  {
   "cell_type": "code",
   "execution_count": 26,
   "id": "6bc1aa13-2a5c-4081-bae1-6aff4c57815f",
   "metadata": {},
   "outputs": [
    {
     "data": {
      "text/plain": [
       "array([[ 5, 15, 25]])"
      ]
     },
     "execution_count": 26,
     "metadata": {},
     "output_type": "execute_result"
    }
   ],
   "source": [
    "two_dim[1:2,:3]"
   ]
  },
  {
   "cell_type": "code",
   "execution_count": 28,
   "id": "6597580d-2116-4ac7-93e8-4097cd9cd251",
   "metadata": {},
   "outputs": [
    {
     "data": {
      "text/plain": [
       "array([[  0,  10],\n",
       "       [  5,  15],\n",
       "       [100, 200]])"
      ]
     },
     "execution_count": 28,
     "metadata": {},
     "output_type": "execute_result"
    }
   ],
   "source": [
    "two_dim[0:3,:2]"
   ]
  },
  {
   "cell_type": "code",
   "execution_count": 30,
   "id": "f306625a-88be-4a43-a73b-4a1d6d7a0084",
   "metadata": {},
   "outputs": [
    {
     "data": {
      "text/plain": [
       "array([], shape=(0, 2), dtype=int32)"
      ]
     },
     "execution_count": 30,
     "metadata": {},
     "output_type": "execute_result"
    }
   ],
   "source": [
    "two_dim[1:1,:2]"
   ]
  },
  {
   "cell_type": "code",
   "execution_count": 32,
   "id": "e65dc9c2-9c66-47b7-98e0-63b1e9237867",
   "metadata": {},
   "outputs": [
    {
     "data": {
      "text/plain": [
       "array([[ 5, 15]])"
      ]
     },
     "execution_count": 32,
     "metadata": {},
     "output_type": "execute_result"
    }
   ],
   "source": [
    "two_dim[1:2,:2]"
   ]
  },
  {
   "cell_type": "code",
   "execution_count": 34,
   "id": "5482884a-e4a9-40b0-afbe-6beddbd39428",
   "metadata": {},
   "outputs": [
    {
     "data": {
      "text/plain": [
       "array([[  5,  15,  25],\n",
       "       [100, 200, 300]])"
      ]
     },
     "execution_count": 34,
     "metadata": {},
     "output_type": "execute_result"
    }
   ],
   "source": [
    "two_dim[1:3,:3]\n"
   ]
  },
  {
   "cell_type": "code",
   "execution_count": 36,
   "id": "fffefc70-ee16-444c-ab08-cc242f05c35d",
   "metadata": {},
   "outputs": [
    {
     "ename": "IndentationError",
     "evalue": "unexpected indent (1350106175.py, line 2)",
     "output_type": "error",
     "traceback": [
      "\u001b[1;36m  Cell \u001b[1;32mIn[36], line 2\u001b[1;36m\u001b[0m\n\u001b[1;33m    print(array1) # wyświetla wszystkie wymiary tablic\u001b[0m\n\u001b[1;37m    ^\u001b[0m\n\u001b[1;31mIndentationError\u001b[0m\u001b[1;31m:\u001b[0m unexpected indent\n"
     ]
    }
   ],
   "source": [
    "array1 =np.array([[0,10,20],[5,15,25],[100,200,300]])\n",
    "    print(array1) # wyświetla wszystkie wymiary tablic\n",
    "    print(array1[1])  # wybierasz jeden wymiar\n",
    "    print(array1[1,1]) # wybierasz jedną wartośc konkretnego wymiaru\n",
    "    print(array1[0:2,1:3]) # filtrujesz które wymiary i konretkne wartości w tych wymiarach\n",
    "    print(array1[:2,1:]) # analogiczny zapis do powyższego, przydatne jak nie znasz końcowych zakresów"
   ]
  },
  {
   "cell_type": "code",
   "execution_count": 38,
   "id": "15d555ad-f62c-41d6-b347-fd8e2b1615c0",
   "metadata": {},
   "outputs": [],
   "source": [
    "array1 =np.array([[0,10,20],[5,15,25],[100,200,300]])\n",
    "   "
   ]
  },
  {
   "cell_type": "code",
   "execution_count": 40,
   "id": "45dfb3b5-2bc5-4517-8079-51f15f2b5749",
   "metadata": {},
   "outputs": [
    {
     "name": "stdout",
     "output_type": "stream",
     "text": [
      "[[  0  10  20]\n",
      " [  5  15  25]\n",
      " [100 200 300]]\n",
      "[ 5 15 25]\n",
      "15\n",
      "[[10 20]\n",
      " [15 25]]\n",
      "[[10 20]\n",
      " [15 25]]\n"
     ]
    }
   ],
   "source": [
    "print(array1) # wyświetla wszystkie wymiary tablic\n",
    "print(array1[1])  # wybierasz jeden wymiar\n",
    "print(array1[1,1]) # wybierasz jedną wartośc konkretnego wymiaru\n",
    "print(array1[0:2,1:3]) # filtrujesz które wymiary i konretkne wartości w tych wymiarach\n",
    "print(array1[:2,1:]) # analogiczny zapis do powyższego, przydatne jak nie znasz końcowych zakresów"
   ]
  },
  {
   "cell_type": "code",
   "execution_count": 42,
   "id": "40c391c0-1730-48aa-a7fb-bbd68443e74b",
   "metadata": {},
   "outputs": [
    {
     "data": {
      "text/plain": [
       "array([[ 0,  1,  2,  3,  4],\n",
       "       [ 5,  6,  7,  8,  9],\n",
       "       [10, 11, 12, 13, 14],\n",
       "       [15, 16, 17, 18, 19],\n",
       "       [20, 21, 22, 23, 24]])"
      ]
     },
     "execution_count": 42,
     "metadata": {},
     "output_type": "execute_result"
    }
   ],
   "source": [
    "my_arr = np.arange(25).reshape(5,5)\n",
    "my_arr"
   ]
  },
  {
   "cell_type": "code",
   "execution_count": 44,
   "id": "0db8c577-39ec-4ba8-b7f4-2c234fb8cbbe",
   "metadata": {},
   "outputs": [
    {
     "data": {
      "text/plain": [
       "array([0, 9])"
      ]
     },
     "execution_count": 44,
     "metadata": {},
     "output_type": "execute_result"
    }
   ],
   "source": [
    "my_arr[[0,1],[0,4]]"
   ]
  },
  {
   "cell_type": "code",
   "execution_count": 48,
   "id": "d19a467b-ac2a-45b8-8aab-50ee2e9b8975",
   "metadata": {},
   "outputs": [
    {
     "data": {
      "text/plain": [
       "array([1, 9])"
      ]
     },
     "execution_count": 48,
     "metadata": {},
     "output_type": "execute_result"
    }
   ],
   "source": [
    "my_arr[[0,1],[1,4]]"
   ]
  },
  {
   "cell_type": "code",
   "execution_count": 50,
   "id": "69436a1d-ba07-4207-bb68-e50001543f24",
   "metadata": {},
   "outputs": [
    {
     "data": {
      "text/plain": [
       "array([ 7, 12])"
      ]
     },
     "execution_count": 50,
     "metadata": {},
     "output_type": "execute_result"
    }
   ],
   "source": [
    "my_arr[[1,2],[2,2]]"
   ]
  },
  {
   "cell_type": "code",
   "execution_count": 52,
   "id": "f5e4e934-6e3a-4937-92d1-fdb46f439d1c",
   "metadata": {},
   "outputs": [
    {
     "data": {
      "text/plain": [
       "array([[0, 0, 0],\n",
       "       [0, 0, 1],\n",
       "       [2, 0, 1],\n",
       "       [0, 0, 2]])"
      ]
     },
     "execution_count": 52,
     "metadata": {},
     "output_type": "execute_result"
    }
   ],
   "source": [
    "vals = np.array([100,5,0])\n",
    "select = np.random.randint(0,3,size=(4,3))\n",
    "select"
   ]
  },
  {
   "cell_type": "code",
   "execution_count": 54,
   "id": "49407c74-2e02-4f60-8a82-518660830ff9",
   "metadata": {},
   "outputs": [
    {
     "data": {
      "text/plain": [
       "array([[100, 100, 100],\n",
       "       [100, 100,   5],\n",
       "       [  0, 100,   5],\n",
       "       [100, 100,   0]])"
      ]
     },
     "execution_count": 54,
     "metadata": {},
     "output_type": "execute_result"
    }
   ],
   "source": [
    "vals[select]"
   ]
  },
  {
   "cell_type": "code",
   "execution_count": null,
   "id": "416f2ea9-3811-4218-ac0d-e56488a1ed83",
   "metadata": {},
   "outputs": [],
   "source": []
  },
  {
   "cell_type": "code",
   "execution_count": 57,
   "id": "85c9a08a-a47b-41a9-bd8a-e5576a2e9d36",
   "metadata": {},
   "outputs": [
    {
     "data": {
      "text/plain": [
       "array([0, 1, 2, 3, 4, 5, 6, 7, 8, 9])"
      ]
     },
     "execution_count": 57,
     "metadata": {},
     "output_type": "execute_result"
    }
   ],
   "source": [
    "arr = np.arange(10)\n",
    "arr"
   ]
  },
  {
   "cell_type": "code",
   "execution_count": null,
   "id": "6ef6636a-e1f3-46f8-92a7-17e84cf78032",
   "metadata": {},
   "outputs": [],
   "source": []
  },
  {
   "cell_type": "code",
   "execution_count": 60,
   "id": "e2388343-3949-4b58-b834-37ea1e19a117",
   "metadata": {},
   "outputs": [
    {
     "data": {
      "text/plain": [
       "array([0, 1, 2, 3, 4])"
      ]
     },
     "execution_count": 60,
     "metadata": {},
     "output_type": "execute_result"
    }
   ],
   "source": [
    "slice_of_arr = arr[:5]\n",
    "slice_of_arr"
   ]
  },
  {
   "cell_type": "code",
   "execution_count": 62,
   "id": "8cdaf1ce-64ba-41a9-8c2f-f50607e05ec7",
   "metadata": {},
   "outputs": [
    {
     "data": {
      "text/plain": [
       "array([100, 100, 100, 100, 100])"
      ]
     },
     "execution_count": 62,
     "metadata": {},
     "output_type": "execute_result"
    }
   ],
   "source": [
    "slice_of_arr[:] = 100\n",
    "slice_of_arr"
   ]
  },
  {
   "cell_type": "code",
   "execution_count": 64,
   "id": "76ff8047-048a-4327-8604-21423c0b0627",
   "metadata": {},
   "outputs": [
    {
     "data": {
      "text/plain": [
       "array([100, 100, 100, 100, 100,   5,   6,   7,   8,   9])"
      ]
     },
     "execution_count": 64,
     "metadata": {},
     "output_type": "execute_result"
    }
   ],
   "source": [
    "arr\n"
   ]
  },
  {
   "cell_type": "code",
   "execution_count": 66,
   "id": "e3cb86c0-d856-4887-8ff8-1979c29d5782",
   "metadata": {},
   "outputs": [
    {
     "data": {
      "text/plain": [
       "array([0, 1, 2, 3, 4, 5, 6, 7, 8, 9])"
      ]
     },
     "execution_count": 66,
     "metadata": {},
     "output_type": "execute_result"
    }
   ],
   "source": [
    "fancy_arr = np.arange(10)\n",
    "fancy_arr"
   ]
  },
  {
   "cell_type": "code",
   "execution_count": 68,
   "id": "26222297-d6f6-4e2a-affc-763646364896",
   "metadata": {},
   "outputs": [
    {
     "data": {
      "text/plain": [
       "array([0, 1, 2, 3, 4])"
      ]
     },
     "execution_count": 68,
     "metadata": {},
     "output_type": "execute_result"
    }
   ],
   "source": [
    "fancy_index_arr = fancy_arr[np.arange(5)]\n",
    "fancy_index_arr"
   ]
  },
  {
   "cell_type": "code",
   "execution_count": 70,
   "id": "778aaeed-c737-4baa-b88d-62a8251a92cf",
   "metadata": {},
   "outputs": [
    {
     "name": "stdout",
     "output_type": "stream",
     "text": [
      "arr\n",
      "[0 1 2 3 4 5 6 7 8 9]\n",
      "slice_of_arr\n",
      "[0 1 2 3 4]\n",
      "slice_of_arr\n",
      "[100 100 100 100 100]\n",
      "arr\n",
      "[0 1 2 3 4 5 6 7 8 9]\n"
     ]
    }
   ],
   "source": [
    "arr = np.arange(10)\n",
    "print('arr')\n",
    "print(arr)\n",
    "\n",
    "slice_of_arr = arr[:5].copy()\n",
    "print('slice_of_arr')\n",
    "print(slice_of_arr)\n",
    "\n",
    "slice_of_arr[:] = 100\n",
    "print('slice_of_arr')\n",
    "print(slice_of_arr)\n",
    "\n",
    "print('arr')\n",
    "print(arr)"
   ]
  },
  {
   "cell_type": "code",
   "execution_count": 72,
   "id": "d5def68c-1e43-419a-b30f-6a353aa7352b",
   "metadata": {},
   "outputs": [
    {
     "name": "stdout",
     "output_type": "stream",
     "text": [
      "[[0 1 2]\n",
      " [3 4 5]\n",
      " [6 7 8]]\n"
     ]
    }
   ],
   "source": [
    "macierz = np.arange(9).reshape(3, 3)\n",
    "print(macierz)\n",
    "macierz[-1, -1] = 999"
   ]
  },
  {
   "cell_type": "code",
   "execution_count": 74,
   "id": "99fd3e73-6975-4652-b850-bc4e2cadf61a",
   "metadata": {},
   "outputs": [
    {
     "name": "stdout",
     "output_type": "stream",
     "text": [
      "[[  0   1   2]\n",
      " [  3   4   5]\n",
      " [  6   7 999]]\n"
     ]
    }
   ],
   "source": [
    "print(macierz)"
   ]
  },
  {
   "cell_type": "code",
   "execution_count": 76,
   "id": "30240bc3-6336-4a11-aaa8-9197632d05b3",
   "metadata": {},
   "outputs": [
    {
     "name": "stdout",
     "output_type": "stream",
     "text": [
      "[[0 1 2]\n",
      " [3 0 0]\n",
      " [6 0 0]]\n"
     ]
    }
   ],
   "source": [
    "macierz[1:, 1:] = 0\n",
    "print(macierz)"
   ]
  },
  {
   "cell_type": "code",
   "execution_count": 78,
   "id": "5dce8c7d-23d9-4242-9107-d4428a5eada0",
   "metadata": {},
   "outputs": [
    {
     "name": "stdout",
     "output_type": "stream",
     "text": [
      "\n",
      " [[0 1 2]\n",
      " [3 0 0]\n",
      " [6 0 0]]\n"
     ]
    }
   ],
   "source": [
    "print('\\n', macierz)"
   ]
  },
  {
   "cell_type": "code",
   "execution_count": 80,
   "id": "8aca30d6-91fc-48fd-a859-f8f9d800e0d7",
   "metadata": {},
   "outputs": [
    {
     "name": "stdout",
     "output_type": "stream",
     "text": [
      "(array([0, 1, 4], dtype=int64),)\n"
     ]
    }
   ],
   "source": [
    "arr = np.array([1, 2, 0, 0, 4, 0])\n",
    "indices = np.nonzero(arr)\n",
    "print(indices)"
   ]
  },
  {
   "cell_type": "code",
   "execution_count": 82,
   "id": "8c893379-2c8f-426c-a013-9f3800339239",
   "metadata": {},
   "outputs": [
    {
     "data": {
      "text/plain": [
       "array([ 0,  5, 10, 15, 20, 25, 30, 35, 40, 45])"
      ]
     },
     "execution_count": 82,
     "metadata": {},
     "output_type": "execute_result"
    }
   ],
   "source": [
    "arr = np.arange(0,50,5)\n",
    "arr"
   ]
  },
  {
   "cell_type": "code",
   "execution_count": 84,
   "id": "1aed1ff0-70a0-46a3-a8d9-2e578f28e9ec",
   "metadata": {},
   "outputs": [
    {
     "data": {
      "text/plain": [
       "array([False, False, False, False,  True,  True,  True,  True,  True,\n",
       "        True])"
      ]
     },
     "execution_count": 84,
     "metadata": {},
     "output_type": "execute_result"
    }
   ],
   "source": [
    "arr>15"
   ]
  },
  {
   "cell_type": "code",
   "execution_count": 86,
   "id": "05a89a33-a83d-4282-920a-abc29feac0e4",
   "metadata": {},
   "outputs": [
    {
     "data": {
      "text/plain": [
       "array([20, 25, 30, 35, 40, 45])"
      ]
     },
     "execution_count": 86,
     "metadata": {},
     "output_type": "execute_result"
    }
   ],
   "source": [
    "arr[arr>15]"
   ]
  },
  {
   "cell_type": "code",
   "execution_count": 88,
   "id": "240327e3-3f47-4424-a055-1d8f75c9d063",
   "metadata": {},
   "outputs": [
    {
     "data": {
      "text/plain": [
       "array([False, False, False, False,  True,  True,  True,  True, False,\n",
       "        True])"
      ]
     },
     "execution_count": 88,
     "metadata": {},
     "output_type": "execute_result"
    }
   ],
   "source": [
    "(arr>15) & (arr!=40)"
   ]
  },
  {
   "cell_type": "code",
   "execution_count": 90,
   "id": "92f90d8e-2673-4a8b-b452-9cb5b2442481",
   "metadata": {},
   "outputs": [
    {
     "data": {
      "text/plain": [
       "array([20, 25, 30, 35, 45])"
      ]
     },
     "execution_count": 90,
     "metadata": {},
     "output_type": "execute_result"
    }
   ],
   "source": [
    "arr[(arr>15) & (arr!=40)]"
   ]
  },
  {
   "cell_type": "code",
   "execution_count": 92,
   "id": "c924b4ae-3e1d-43a3-8fb4-52c6eb8acc96",
   "metadata": {},
   "outputs": [
    {
     "data": {
      "text/plain": [
       "array([ True,  True, False, False,  True,  True,  True,  True,  True,\n",
       "        True])"
      ]
     },
     "execution_count": 92,
     "metadata": {},
     "output_type": "execute_result"
    }
   ],
   "source": [
    "(arr<10) | (arr>=20)"
   ]
  },
  {
   "cell_type": "code",
   "execution_count": 94,
   "id": "a0908e7d-14ae-4e34-bab5-3d27e4ce57e7",
   "metadata": {},
   "outputs": [
    {
     "data": {
      "text/plain": [
       "array([ 0,  5, 20, 25, 30, 35, 40, 45])"
      ]
     },
     "execution_count": 94,
     "metadata": {},
     "output_type": "execute_result"
    }
   ],
   "source": [
    "arr[(arr<10) | (arr>=20)]"
   ]
  },
  {
   "cell_type": "code",
   "execution_count": 96,
   "id": "2133d3bc-1df2-47b6-b0a8-f97fe109748e",
   "metadata": {},
   "outputs": [
    {
     "data": {
      "text/plain": [
       "(array([0, 1, 2, 3, 4, 5, 6, 7, 8], dtype=int64),)"
      ]
     },
     "execution_count": 96,
     "metadata": {},
     "output_type": "execute_result"
    }
   ],
   "source": [
    "np.where(arr<=43)"
   ]
  },
  {
   "cell_type": "code",
   "execution_count": 98,
   "id": "801a5585-10fb-41ff-9531-56cab30490b0",
   "metadata": {},
   "outputs": [
    {
     "ename": "SyntaxError",
     "evalue": "closing parenthesis ')' does not match opening parenthesis '[' (357194114.py, line 1)",
     "output_type": "error",
     "traceback": [
      "\u001b[1;36m  Cell \u001b[1;32mIn[98], line 1\u001b[1;36m\u001b[0m\n\u001b[1;33m    arr[((arr<10) | (arr>=20)) & (arr!=40))]\u001b[0m\n\u001b[1;37m                                          ^\u001b[0m\n\u001b[1;31mSyntaxError\u001b[0m\u001b[1;31m:\u001b[0m closing parenthesis ')' does not match opening parenthesis '['\n"
     ]
    }
   ],
   "source": [
    "arr[((arr<10) | (arr>=20)) & (arr!=40))]"
   ]
  },
  {
   "cell_type": "code",
   "execution_count": 100,
   "id": "85f8011d-147a-4daa-b976-4bee42f19b12",
   "metadata": {},
   "outputs": [
    {
     "data": {
      "text/plain": [
       "array([ 0,  5, 20, 25, 30, 35, 45])"
      ]
     },
     "execution_count": 100,
     "metadata": {},
     "output_type": "execute_result"
    }
   ],
   "source": [
    "arr[((arr<10) | (arr>=20)) & (arr!=40)]"
   ]
  },
  {
   "cell_type": "code",
   "execution_count": 102,
   "id": "d9c886a0-3d35-4c45-a154-a7999e72b47e",
   "metadata": {},
   "outputs": [
    {
     "ename": "SyntaxError",
     "evalue": "invalid syntax. Maybe you meant '==' or ':=' instead of '='? (2245385658.py, line 2)",
     "output_type": "error",
     "traceback": [
      "\u001b[1;36m  Cell \u001b[1;32mIn[102], line 2\u001b[1;36m\u001b[0m\n\u001b[1;33m    os[(os = 0)^(os = 2)]\u001b[0m\n\u001b[1;37m        ^\u001b[0m\n\u001b[1;31mSyntaxError\u001b[0m\u001b[1;31m:\u001b[0m invalid syntax. Maybe you meant '==' or ':=' instead of '='?\n"
     ]
    }
   ],
   "source": [
    "os = np.diag([1,1,1,1])\n",
    "os[(os == 0)^(os == 2)]"
   ]
  },
  {
   "cell_type": "code",
   "execution_count": 104,
   "id": "d7feda8a-93a5-45d8-8cbd-237df0645f7c",
   "metadata": {},
   "outputs": [
    {
     "data": {
      "text/plain": [
       "array([0, 0, 0, 0, 0, 0, 0, 0, 0, 0, 0, 0])"
      ]
     },
     "execution_count": 104,
     "metadata": {},
     "output_type": "execute_result"
    }
   ],
   "source": [
    "os = np.diag([1,1,1,1])\n",
    "os[(os == 0)^(os == 2)]"
   ]
  },
  {
   "cell_type": "code",
   "execution_count": 106,
   "id": "1216dab5-4968-4791-abdd-775cee8a98ba",
   "metadata": {},
   "outputs": [
    {
     "data": {
      "text/plain": [
       "array([[1, 0, 0, 0],\n",
       "       [0, 1, 0, 0],\n",
       "       [0, 0, 1, 0],\n",
       "       [0, 0, 0, 1]])"
      ]
     },
     "execution_count": 106,
     "metadata": {},
     "output_type": "execute_result"
    }
   ],
   "source": [
    "os = np.diag([1,1,1,1])\n",
    "os"
   ]
  },
  {
   "cell_type": "code",
   "execution_count": 108,
   "id": "060bfb88-6127-4956-a38f-4c07ec1ec866",
   "metadata": {},
   "outputs": [
    {
     "data": {
      "text/plain": [
       "array([0, 0, 0, 0, 0, 0, 0, 0, 0, 0, 0, 0])"
      ]
     },
     "execution_count": 108,
     "metadata": {},
     "output_type": "execute_result"
    }
   ],
   "source": [
    "os[(os == 0)^(os == 2)]"
   ]
  },
  {
   "cell_type": "code",
   "execution_count": 110,
   "id": "6c293fa3-7ff7-4fcd-98b7-5af50cf4cce1",
   "metadata": {},
   "outputs": [],
   "source": [
    "size = 4\n"
   ]
  },
  {
   "cell_type": "code",
   "execution_count": 112,
   "id": "16be8049-932f-486a-9969-f2f578a4408c",
   "metadata": {},
   "outputs": [],
   "source": [
    "matrix = np.logical_xor(np.identity(size, dtype=bool), True)"
   ]
  },
  {
   "cell_type": "code",
   "execution_count": 114,
   "id": "9e568866-dde3-4b79-89d0-528b824633c9",
   "metadata": {},
   "outputs": [
    {
     "data": {
      "text/plain": [
       "array([[False,  True,  True,  True],\n",
       "       [ True, False,  True,  True],\n",
       "       [ True,  True, False,  True],\n",
       "       [ True,  True,  True, False]])"
      ]
     },
     "execution_count": 114,
     "metadata": {},
     "output_type": "execute_result"
    }
   ],
   "source": [
    "matrix"
   ]
  },
  {
   "cell_type": "code",
   "execution_count": 116,
   "id": "340150b5-e164-4238-ad2e-9b2087b67b90",
   "metadata": {},
   "outputs": [
    {
     "data": {
      "text/plain": [
       "array([[ 0,  1,  2,  3,  4],\n",
       "       [ 5,  6,  7,  8,  9],\n",
       "       [10, 11, 12, 13, 14],\n",
       "       [15, 16, 17, 18, 19]])"
      ]
     },
     "execution_count": 116,
     "metadata": {},
     "output_type": "execute_result"
    }
   ],
   "source": [
    "arr = np.arange(20).reshape(4,5)\n",
    "arr"
   ]
  },
  {
   "cell_type": "code",
   "execution_count": 118,
   "id": "f44e3d44-ea3a-4a78-b11a-7945837a0da6",
   "metadata": {},
   "outputs": [
    {
     "data": {
      "text/plain": [
       "array([[15, 16, 17],\n",
       "       [ 0,  1,  2],\n",
       "       [ 5,  6,  7]])"
      ]
     },
     "execution_count": 118,
     "metadata": {},
     "output_type": "execute_result"
    }
   ],
   "source": [
    "arr[[3,0,1],:3]"
   ]
  },
  {
   "cell_type": "code",
   "execution_count": 120,
   "id": "ad1acb6d-87e5-47a2-8035-20774307ce2d",
   "metadata": {},
   "outputs": [
    {
     "data": {
      "text/plain": [
       "190"
      ]
     },
     "execution_count": 120,
     "metadata": {},
     "output_type": "execute_result"
    }
   ],
   "source": [
    "arr.sum()"
   ]
  },
  {
   "cell_type": "code",
   "execution_count": 122,
   "id": "9553c235-50c2-4d8e-9435-3d641477e994",
   "metadata": {},
   "outputs": [
    {
     "data": {
      "text/plain": [
       "array([[ 7,  8,  9],\n",
       "       [12, 13, 14],\n",
       "       [17, 18, 19]])"
      ]
     },
     "execution_count": 122,
     "metadata": {},
     "output_type": "execute_result"
    }
   ],
   "source": [
    "arr[arr.sum(axis=1)>10,2:]"
   ]
  },
  {
   "cell_type": "code",
   "execution_count": 124,
   "id": "bbae7ebf-40ca-487e-ae57-7336afe90593",
   "metadata": {},
   "outputs": [
    {
     "data": {
      "text/plain": [
       "array([[ 7,  8,  9],\n",
       "       [12, 13, 14],\n",
       "       [17, 18, 19]])"
      ]
     },
     "execution_count": 124,
     "metadata": {},
     "output_type": "execute_result"
    }
   ],
   "source": [
    "arr[arr.sum(axis=1)>30,2:]"
   ]
  },
  {
   "cell_type": "code",
   "execution_count": 126,
   "id": "a6238bbb-6ab4-4700-b21e-e5a634f01bcd",
   "metadata": {},
   "outputs": [
    {
     "ename": "AxisError",
     "evalue": "axis 2 is out of bounds for array of dimension 2",
     "output_type": "error",
     "traceback": [
      "\u001b[1;31m---------------------------------------------------------------------------\u001b[0m",
      "\u001b[1;31mAxisError\u001b[0m                                 Traceback (most recent call last)",
      "Cell \u001b[1;32mIn[126], line 1\u001b[0m\n\u001b[1;32m----> 1\u001b[0m arr[arr\u001b[38;5;241m.\u001b[39msum(axis\u001b[38;5;241m=\u001b[39m\u001b[38;5;241m2\u001b[39m)\u001b[38;5;241m>\u001b[39m\u001b[38;5;241m30\u001b[39m,\u001b[38;5;241m2\u001b[39m:]\n",
      "File \u001b[1;32m~\\anaconda3\\Lib\\site-packages\\numpy\\core\\_methods.py:49\u001b[0m, in \u001b[0;36m_sum\u001b[1;34m(a, axis, dtype, out, keepdims, initial, where)\u001b[0m\n\u001b[0;32m     47\u001b[0m \u001b[38;5;28;01mdef\u001b[39;00m \u001b[38;5;21m_sum\u001b[39m(a, axis\u001b[38;5;241m=\u001b[39m\u001b[38;5;28;01mNone\u001b[39;00m, dtype\u001b[38;5;241m=\u001b[39m\u001b[38;5;28;01mNone\u001b[39;00m, out\u001b[38;5;241m=\u001b[39m\u001b[38;5;28;01mNone\u001b[39;00m, keepdims\u001b[38;5;241m=\u001b[39m\u001b[38;5;28;01mFalse\u001b[39;00m,\n\u001b[0;32m     48\u001b[0m          initial\u001b[38;5;241m=\u001b[39m_NoValue, where\u001b[38;5;241m=\u001b[39m\u001b[38;5;28;01mTrue\u001b[39;00m):\n\u001b[1;32m---> 49\u001b[0m     \u001b[38;5;28;01mreturn\u001b[39;00m umr_sum(a, axis, dtype, out, keepdims, initial, where)\n",
      "\u001b[1;31mAxisError\u001b[0m: axis 2 is out of bounds for array of dimension 2"
     ]
    }
   ],
   "source": [
    "arr[arr.sum(axis=2)>30,2:]"
   ]
  },
  {
   "cell_type": "code",
   "execution_count": 128,
   "id": "b0bf4308-ba8e-4db5-87bf-81e11a701b42",
   "metadata": {},
   "outputs": [
    {
     "ename": "IndexError",
     "evalue": "boolean index did not match indexed array along dimension 0; dimension is 4 but corresponding boolean dimension is 5",
     "output_type": "error",
     "traceback": [
      "\u001b[1;31m---------------------------------------------------------------------------\u001b[0m",
      "\u001b[1;31mIndexError\u001b[0m                                Traceback (most recent call last)",
      "Cell \u001b[1;32mIn[128], line 1\u001b[0m\n\u001b[1;32m----> 1\u001b[0m arr[arr\u001b[38;5;241m.\u001b[39msum(axis\u001b[38;5;241m=\u001b[39m\u001b[38;5;241m0\u001b[39m)\u001b[38;5;241m>\u001b[39m\u001b[38;5;241m30\u001b[39m,\u001b[38;5;241m2\u001b[39m:]\n",
      "\u001b[1;31mIndexError\u001b[0m: boolean index did not match indexed array along dimension 0; dimension is 4 but corresponding boolean dimension is 5"
     ]
    }
   ],
   "source": [
    "arr[arr.sum(axis=0)>30,2:]"
   ]
  },
  {
   "cell_type": "code",
   "execution_count": 130,
   "id": "8e5063e3-d420-4e70-808e-1475ddccc1db",
   "metadata": {},
   "outputs": [
    {
     "ename": "AxisError",
     "evalue": "axis 2 is out of bounds for array of dimension 2",
     "output_type": "error",
     "traceback": [
      "\u001b[1;31m---------------------------------------------------------------------------\u001b[0m",
      "\u001b[1;31mAxisError\u001b[0m                                 Traceback (most recent call last)",
      "Cell \u001b[1;32mIn[130], line 1\u001b[0m\n\u001b[1;32m----> 1\u001b[0m arr[arr\u001b[38;5;241m.\u001b[39msum(axis\u001b[38;5;241m=\u001b[39m\u001b[38;5;241m2\u001b[39m)\u001b[38;5;241m>\u001b[39m\u001b[38;5;241m10\u001b[39m,\u001b[38;5;241m2\u001b[39m:]\n",
      "File \u001b[1;32m~\\anaconda3\\Lib\\site-packages\\numpy\\core\\_methods.py:49\u001b[0m, in \u001b[0;36m_sum\u001b[1;34m(a, axis, dtype, out, keepdims, initial, where)\u001b[0m\n\u001b[0;32m     47\u001b[0m \u001b[38;5;28;01mdef\u001b[39;00m \u001b[38;5;21m_sum\u001b[39m(a, axis\u001b[38;5;241m=\u001b[39m\u001b[38;5;28;01mNone\u001b[39;00m, dtype\u001b[38;5;241m=\u001b[39m\u001b[38;5;28;01mNone\u001b[39;00m, out\u001b[38;5;241m=\u001b[39m\u001b[38;5;28;01mNone\u001b[39;00m, keepdims\u001b[38;5;241m=\u001b[39m\u001b[38;5;28;01mFalse\u001b[39;00m,\n\u001b[0;32m     48\u001b[0m          initial\u001b[38;5;241m=\u001b[39m_NoValue, where\u001b[38;5;241m=\u001b[39m\u001b[38;5;28;01mTrue\u001b[39;00m):\n\u001b[1;32m---> 49\u001b[0m     \u001b[38;5;28;01mreturn\u001b[39;00m umr_sum(a, axis, dtype, out, keepdims, initial, where)\n",
      "\u001b[1;31mAxisError\u001b[0m: axis 2 is out of bounds for array of dimension 2"
     ]
    }
   ],
   "source": [
    "arr[arr.sum(axis=2)>10,2:]"
   ]
  },
  {
   "cell_type": "code",
   "execution_count": 132,
   "id": "62c5e5a0-998e-4427-841b-ce64373d43d4",
   "metadata": {},
   "outputs": [
    {
     "ename": "NameError",
     "evalue": "name 'axis' is not defined",
     "output_type": "error",
     "traceback": [
      "\u001b[1;31m---------------------------------------------------------------------------\u001b[0m",
      "\u001b[1;31mNameError\u001b[0m                                 Traceback (most recent call last)",
      "Cell \u001b[1;32mIn[132], line 1\u001b[0m\n\u001b[1;32m----> 1\u001b[0m arr[arr\u001b[38;5;241m.\u001b[39msum(axis)\u001b[38;5;241m>\u001b[39m\u001b[38;5;241m30\u001b[39m,\u001b[38;5;241m2\u001b[39m:]\n",
      "\u001b[1;31mNameError\u001b[0m: name 'axis' is not defined"
     ]
    }
   ],
   "source": [
    "arr[arr.sum(axis)>30,2:]"
   ]
  },
  {
   "cell_type": "code",
   "execution_count": 136,
   "id": "bc2f43ac-2b34-4a17-8de3-bb3ae03d135e",
   "metadata": {},
   "outputs": [
    {
     "ename": "SyntaxError",
     "evalue": "positional argument follows keyword argument (1017542892.py, line 1)",
     "output_type": "error",
     "traceback": [
      "\u001b[1;36m  Cell \u001b[1;32mIn[136], line 1\u001b[1;36m\u001b[0m\n\u001b[1;33m    arr[arr.sum(axis=1,2,3)>30,2:]\u001b[0m\n\u001b[1;37m                          ^\u001b[0m\n\u001b[1;31mSyntaxError\u001b[0m\u001b[1;31m:\u001b[0m positional argument follows keyword argument\n"
     ]
    }
   ],
   "source": [
    "arr[arr.sum(axis=1,2,3)>30,2:]"
   ]
  },
  {
   "cell_type": "code",
   "execution_count": 138,
   "id": "a41d0c14-9caf-43f4-ac5d-1ac7d82d4f80",
   "metadata": {},
   "outputs": [
    {
     "data": {
      "text/plain": [
       "array([[  0,  10,  20],\n",
       "       [  5,  15,  25],\n",
       "       [100, 200, 300]])"
      ]
     },
     "execution_count": 138,
     "metadata": {},
     "output_type": "execute_result"
    }
   ],
   "source": [
    "two_dim = np.array([[0,10,20],[5,15,25],[100,200,300]])\n",
    "two_dim"
   ]
  },
  {
   "cell_type": "code",
   "execution_count": 9,
   "id": "c9546318-bb81-4348-a874-faa04ba7e059",
   "metadata": {},
   "outputs": [
    {
     "ename": "NameError",
     "evalue": "name 'np' is not defined",
     "output_type": "error",
     "traceback": [
      "\u001b[1;31m---------------------------------------------------------------------------\u001b[0m",
      "\u001b[1;31mNameError\u001b[0m                                 Traceback (most recent call last)",
      "Cell \u001b[1;32mIn[9], line 1\u001b[0m\n\u001b[1;32m----> 1\u001b[0m arr \u001b[38;5;241m=\u001b[39m np\u001b[38;5;241m.\u001b[39marange(\u001b[38;5;241m20\u001b[39m)\u001b[38;5;241m.\u001b[39mreshape(\u001b[38;5;241m4\u001b[39m,\u001b[38;5;241m5\u001b[39m)\n\u001b[0;32m      2\u001b[0m arr\n",
      "\u001b[1;31mNameError\u001b[0m: name 'np' is not defined"
     ]
    }
   ],
   "source": [
    "arr = np.arange(20).reshape(4,5)\n",
    "arr"
   ]
  },
  {
   "cell_type": "code",
   "execution_count": 11,
   "id": "5bfcc6ab-0641-40fc-8343-122c17442aa0",
   "metadata": {},
   "outputs": [],
   "source": [
    "import numpy\n"
   ]
  },
  {
   "cell_type": "code",
   "execution_count": 13,
   "id": "b82e1cd9-e230-4c13-b644-c1a55eb9e9b4",
   "metadata": {},
   "outputs": [
    {
     "ename": "NameError",
     "evalue": "name 'np' is not defined",
     "output_type": "error",
     "traceback": [
      "\u001b[1;31m---------------------------------------------------------------------------\u001b[0m",
      "\u001b[1;31mNameError\u001b[0m                                 Traceback (most recent call last)",
      "Cell \u001b[1;32mIn[13], line 1\u001b[0m\n\u001b[1;32m----> 1\u001b[0m arr \u001b[38;5;241m=\u001b[39m np\u001b[38;5;241m.\u001b[39marange(\u001b[38;5;241m20\u001b[39m)\u001b[38;5;241m.\u001b[39mreshape(\u001b[38;5;241m4\u001b[39m,\u001b[38;5;241m5\u001b[39m)\n\u001b[0;32m      2\u001b[0m arr\n",
      "\u001b[1;31mNameError\u001b[0m: name 'np' is not defined"
     ]
    }
   ],
   "source": [
    "arr = np.arange(20).reshape(4,5)\n",
    "arr"
   ]
  },
  {
   "cell_type": "code",
   "execution_count": 15,
   "id": "032aa9c6-7abe-467d-a4ce-9082db2bd63d",
   "metadata": {},
   "outputs": [
    {
     "data": {
      "text/plain": [
       "'1.26.4'"
      ]
     },
     "execution_count": 15,
     "metadata": {},
     "output_type": "execute_result"
    }
   ],
   "source": [
    "import numpy as np\n",
    "np.__version__"
   ]
  },
  {
   "cell_type": "code",
   "execution_count": 17,
   "id": "3020b051-f532-4c54-b88b-902992b4a866",
   "metadata": {},
   "outputs": [
    {
     "data": {
      "text/plain": [
       "array([[ 0,  1,  2,  3,  4],\n",
       "       [ 5,  6,  7,  8,  9],\n",
       "       [10, 11, 12, 13, 14],\n",
       "       [15, 16, 17, 18, 19]])"
      ]
     },
     "execution_count": 17,
     "metadata": {},
     "output_type": "execute_result"
    }
   ],
   "source": [
    "arr = np.arange(20).reshape(4,5)\n",
    "arr"
   ]
  },
  {
   "cell_type": "code",
   "execution_count": 19,
   "id": "644b6f7f-6387-4c60-ab7a-1bcdebac893f",
   "metadata": {},
   "outputs": [
    {
     "data": {
      "text/plain": [
       "array([[15, 16, 17],\n",
       "       [ 0,  1,  2],\n",
       "       [ 5,  6,  7]])"
      ]
     },
     "execution_count": 19,
     "metadata": {},
     "output_type": "execute_result"
    }
   ],
   "source": [
    "arr[[3,0,1],:3]"
   ]
  },
  {
   "cell_type": "code",
   "execution_count": 21,
   "id": "3226e505-8374-47dc-96ad-bbaed094ed5e",
   "metadata": {},
   "outputs": [
    {
     "data": {
      "text/plain": [
       "array([[ 7,  8,  9],\n",
       "       [12, 13, 14],\n",
       "       [17, 18, 19]])"
      ]
     },
     "execution_count": 21,
     "metadata": {},
     "output_type": "execute_result"
    }
   ],
   "source": [
    "arr[arr.sum(axis=1)>30,2:]"
   ]
  },
  {
   "cell_type": "code",
   "execution_count": 23,
   "id": "3371c423-4ae9-4497-8ef6-df738915d7e3",
   "metadata": {},
   "outputs": [
    {
     "data": {
      "text/plain": [
       "array([ 7, 12, 17])"
      ]
     },
     "execution_count": 23,
     "metadata": {},
     "output_type": "execute_result"
    }
   ],
   "source": [
    "arr[arr.sum(axis=1)>10,2]"
   ]
  },
  {
   "cell_type": "code",
   "execution_count": 25,
   "id": "08c4d3e3-65ca-4a35-b376-91b151860c74",
   "metadata": {},
   "outputs": [
    {
     "data": {
      "text/plain": [
       "array([[ 7,  8,  9],\n",
       "       [12, 13, 14],\n",
       "       [17, 18, 19]])"
      ]
     },
     "execution_count": 25,
     "metadata": {},
     "output_type": "execute_result"
    }
   ],
   "source": [
    "arr[arr.sum(axis=1)>30,2:]"
   ]
  },
  {
   "cell_type": "code",
   "execution_count": 27,
   "id": "e3e3f5a4-6559-4840-80f2-0e923110a72e",
   "metadata": {},
   "outputs": [
    {
     "data": {
      "text/plain": [
       "array([ 7, 12, 17])"
      ]
     },
     "execution_count": 27,
     "metadata": {},
     "output_type": "execute_result"
    }
   ],
   "source": [
    "arr[arr.sum(axis=1)>30,2]"
   ]
  },
  {
   "cell_type": "code",
   "execution_count": 29,
   "id": "65610366-5e27-4c0f-b64b-199a742d27bb",
   "metadata": {},
   "outputs": [],
   "source": [
    "a = np.array([97,101,105,111,117,125])\n",
    "b = np.array(['a','e','i','o','u','y'])"
   ]
  },
  {
   "cell_type": "code",
   "execution_count": 31,
   "id": "739066c2-2b7a-4af6-9f67-61012d935b0c",
   "metadata": {},
   "outputs": [],
   "source": [
    "a = b"
   ]
  },
  {
   "cell_type": "code",
   "execution_count": 33,
   "id": "91ae4631-1215-45b2-a352-d3da011995bb",
   "metadata": {},
   "outputs": [
    {
     "ename": "UFuncTypeError",
     "evalue": "ufunc 'greater' did not contain a loop with signature matching types (<class 'numpy.dtypes.StrDType'>, <class 'numpy.dtypes.Int32DType'>) -> <class 'numpy.dtypes.BoolDType'>",
     "output_type": "error",
     "traceback": [
      "\u001b[1;31m---------------------------------------------------------------------------\u001b[0m",
      "\u001b[1;31mUFuncTypeError\u001b[0m                            Traceback (most recent call last)",
      "Cell \u001b[1;32mIn[33], line 1\u001b[0m\n\u001b[1;32m----> 1\u001b[0m b[(a\u001b[38;5;241m>\u001b[39m\u001b[38;5;241m100\u001b[39m) \u001b[38;5;241m&\u001b[39m (a\u001b[38;5;241m<\u001b[39m\u001b[38;5;241m110\u001b[39m)]\n",
      "\u001b[1;31mUFuncTypeError\u001b[0m: ufunc 'greater' did not contain a loop with signature matching types (<class 'numpy.dtypes.StrDType'>, <class 'numpy.dtypes.Int32DType'>) -> <class 'numpy.dtypes.BoolDType'>"
     ]
    }
   ],
   "source": [
    "b[(a>100) & (a<110)]"
   ]
  },
  {
   "cell_type": "code",
   "execution_count": 35,
   "id": "b98eae69-0724-4743-a976-f2a57c5b0a4e",
   "metadata": {},
   "outputs": [
    {
     "ename": "UFuncTypeError",
     "evalue": "ufunc 'greater' did not contain a loop with signature matching types (<class 'numpy.dtypes.StrDType'>, <class 'numpy.dtypes.Int32DType'>) -> <class 'numpy.dtypes.BoolDType'>",
     "output_type": "error",
     "traceback": [
      "\u001b[1;31m---------------------------------------------------------------------------\u001b[0m",
      "\u001b[1;31mUFuncTypeError\u001b[0m                            Traceback (most recent call last)",
      "Cell \u001b[1;32mIn[35], line 1\u001b[0m\n\u001b[1;32m----> 1\u001b[0m b[(b\u001b[38;5;241m>\u001b[39m\u001b[38;5;241m100\u001b[39m) \u001b[38;5;241m&\u001b[39m (b\u001b[38;5;241m<\u001b[39m\u001b[38;5;241m110\u001b[39m)]\n",
      "\u001b[1;31mUFuncTypeError\u001b[0m: ufunc 'greater' did not contain a loop with signature matching types (<class 'numpy.dtypes.StrDType'>, <class 'numpy.dtypes.Int32DType'>) -> <class 'numpy.dtypes.BoolDType'>"
     ]
    }
   ],
   "source": [
    "b[(b>100) & (b<110)]"
   ]
  },
  {
   "cell_type": "code",
   "execution_count": 37,
   "id": "a20656eb-dd2d-46d6-af20-db6a942f8921",
   "metadata": {},
   "outputs": [
    {
     "ename": "UFuncTypeError",
     "evalue": "ufunc 'greater' did not contain a loop with signature matching types (<class 'numpy.dtypes.StrDType'>, <class 'numpy.dtypes.Int32DType'>) -> <class 'numpy.dtypes.BoolDType'>",
     "output_type": "error",
     "traceback": [
      "\u001b[1;31m---------------------------------------------------------------------------\u001b[0m",
      "\u001b[1;31mUFuncTypeError\u001b[0m                            Traceback (most recent call last)",
      "Cell \u001b[1;32mIn[37], line 1\u001b[0m\n\u001b[1;32m----> 1\u001b[0m a[(a\u001b[38;5;241m>\u001b[39m\u001b[38;5;241m100\u001b[39m) \u001b[38;5;241m&\u001b[39m (a\u001b[38;5;241m<\u001b[39m\u001b[38;5;241m110\u001b[39m)]\n",
      "\u001b[1;31mUFuncTypeError\u001b[0m: ufunc 'greater' did not contain a loop with signature matching types (<class 'numpy.dtypes.StrDType'>, <class 'numpy.dtypes.Int32DType'>) -> <class 'numpy.dtypes.BoolDType'>"
     ]
    }
   ],
   "source": [
    "a[(a>100) & (a<110)]"
   ]
  },
  {
   "cell_type": "code",
   "execution_count": 39,
   "id": "a161b3c7-6eff-446e-8391-b7de6ea7ed58",
   "metadata": {},
   "outputs": [
    {
     "ename": "UFuncTypeError",
     "evalue": "ufunc 'less' did not contain a loop with signature matching types (<class 'numpy.dtypes.StrDType'>, <class 'numpy.dtypes.Int32DType'>) -> <class 'numpy.dtypes.BoolDType'>",
     "output_type": "error",
     "traceback": [
      "\u001b[1;31m---------------------------------------------------------------------------\u001b[0m",
      "\u001b[1;31mUFuncTypeError\u001b[0m                            Traceback (most recent call last)",
      "Cell \u001b[1;32mIn[39], line 1\u001b[0m\n\u001b[1;32m----> 1\u001b[0m np\u001b[38;5;241m.\u001b[39mlogical_or(a\u001b[38;5;241m<\u001b[39m\u001b[38;5;241m110\u001b[39m,a\u001b[38;5;241m>\u001b[39m\u001b[38;5;241m100\u001b[39m)\n",
      "\u001b[1;31mUFuncTypeError\u001b[0m: ufunc 'less' did not contain a loop with signature matching types (<class 'numpy.dtypes.StrDType'>, <class 'numpy.dtypes.Int32DType'>) -> <class 'numpy.dtypes.BoolDType'>"
     ]
    }
   ],
   "source": [
    "np.logical_or(a<110,a>100)"
   ]
  },
  {
   "cell_type": "code",
   "execution_count": 41,
   "id": "8ad264b1-3269-4d65-b44e-ad43f66dbfc9",
   "metadata": {},
   "outputs": [
    {
     "ename": "UFuncTypeError",
     "evalue": "ufunc 'greater' did not contain a loop with signature matching types (<class 'numpy.dtypes.StrDType'>, <class 'numpy.dtypes.Int32DType'>) -> <class 'numpy.dtypes.BoolDType'>",
     "output_type": "error",
     "traceback": [
      "\u001b[1;31m---------------------------------------------------------------------------\u001b[0m",
      "\u001b[1;31mUFuncTypeError\u001b[0m                            Traceback (most recent call last)",
      "Cell \u001b[1;32mIn[41], line 1\u001b[0m\n\u001b[1;32m----> 1\u001b[0m mask \u001b[38;5;241m=\u001b[39m (a \u001b[38;5;241m>\u001b[39m \u001b[38;5;241m100\u001b[39m) \u001b[38;5;241m&\u001b[39m (a \u001b[38;5;241m<\u001b[39m \u001b[38;5;241m110\u001b[39m)\n\u001b[0;32m      2\u001b[0m b[mask]\n",
      "\u001b[1;31mUFuncTypeError\u001b[0m: ufunc 'greater' did not contain a loop with signature matching types (<class 'numpy.dtypes.StrDType'>, <class 'numpy.dtypes.Int32DType'>) -> <class 'numpy.dtypes.BoolDType'>"
     ]
    }
   ],
   "source": [
    "mask = (a > 100) & (a < 110)\n",
    "b[mask]"
   ]
  },
  {
   "cell_type": "code",
   "execution_count": 49,
   "id": "e9f83ce0-047c-471b-8f51-7b5de8d0fd56",
   "metadata": {},
   "outputs": [
    {
     "name": "stdout",
     "output_type": "stream",
     "text": [
      "['e' 'i']\n"
     ]
    }
   ],
   "source": [
    "\n",
    "a = np.array([97, 101, 105, 111, 117, 125])\n",
    "b = np.array(['a', 'e', 'i', 'o', 'u', 'y'])\n",
    "\n",
    "\n",
    "mask = (a > 100) & (a < 110)\n",
    "\n",
    "\n",
    "print(b[mask])\n",
    "\n"
   ]
  },
  {
   "cell_type": "code",
   "execution_count": 51,
   "id": "a5037d17-9f29-47f2-95dc-ef07c7d3d48c",
   "metadata": {},
   "outputs": [
    {
     "name": "stdout",
     "output_type": "stream",
     "text": [
      "Minimum values for each row: [0 0]\n",
      "Maximum values for each row: [4 4]\n"
     ]
    }
   ],
   "source": [
    "matrix = np.array([[0, 4, 1],\n",
    "                   [2, 0, 4]])\n",
    "\n",
    "# Find the minimum values in each row\n",
    "min_values = np.min(matrix, axis=1)\n",
    "\n",
    "# Find the maximum values in each row\n",
    "max_values = np.max(matrix, axis=1)\n",
    "\n",
    "# Output the results\n",
    "print(\"Minimum values for each row:\", min_values)\n",
    "print(\"Maximum values for each row:\", max_values)"
   ]
  },
  {
   "cell_type": "code",
   "execution_count": 53,
   "id": "2ab141fc-94cb-4a13-bfbc-5030256c2b44",
   "metadata": {},
   "outputs": [
    {
     "data": {
      "text/plain": [
       "array([ 0,  1,  2,  3,  4,  5,  6,  7,  8,  9, 10])"
      ]
     },
     "execution_count": 53,
     "metadata": {},
     "output_type": "execute_result"
    }
   ],
   "source": [
    "np.arange(11)"
   ]
  },
  {
   "cell_type": "code",
   "execution_count": 55,
   "id": "d84b6672-ee72-466e-89bc-23955a688065",
   "metadata": {},
   "outputs": [
    {
     "data": {
      "text/plain": [
       "array([4, 5, 6, 7])"
      ]
     },
     "execution_count": 55,
     "metadata": {},
     "output_type": "execute_result"
    }
   ],
   "source": [
    "kin = np.arange(11)\n",
    "kin[(kin>3) & (kin<8)]"
   ]
  },
  {
   "cell_type": "code",
   "execution_count": 57,
   "id": "e74c7932-392c-46f1-b695-54b26ae5cccf",
   "metadata": {},
   "outputs": [],
   "source": [
    "kin = np.arange(11)\n",
    "kin[(kin>3) & (kin<8)]*= -1"
   ]
  },
  {
   "cell_type": "code",
   "execution_count": 59,
   "id": "b6d371df-aeb1-4bf2-beb8-07dcf7588f6a",
   "metadata": {},
   "outputs": [
    {
     "data": {
      "text/plain": [
       "array([ 0,  1,  2,  3, -4, -5, -6, -7,  8,  9, 10])"
      ]
     },
     "execution_count": 59,
     "metadata": {},
     "output_type": "execute_result"
    }
   ],
   "source": [
    "kin"
   ]
  },
  {
   "cell_type": "code",
   "execution_count": 61,
   "id": "88a5fd70-bb72-4c72-894a-c455af2f8e10",
   "metadata": {},
   "outputs": [
    {
     "name": "stdout",
     "output_type": "stream",
     "text": [
      "Macierz 1\n",
      "[[1 3 6]\n",
      " [7 1 1]\n",
      " [7 2 7]]\n",
      "Macierz 2\n",
      "[[-9  3  7]\n",
      " [ 7  3  1]\n",
      " [-1 -9  5]]\n"
     ]
    }
   ],
   "source": [
    "macierz_1 = np.array([[1,3,6],\n",
    "                      [7,1,1],\n",
    "                      [7,2,7]])\n",
    "\n",
    "print(f'Macierz 1\\n{macierz_1}')\n",
    "macierz_2 = np.array([[-9,3,7],\n",
    "                      [7,3,1],\n",
    "                      [-1,-9,5]])\n",
    "\n",
    "print(f'Macierz 2\\n{macierz_2}')\n"
   ]
  },
  {
   "cell_type": "code",
   "execution_count": 63,
   "id": "7331b3ab-9fcf-427e-92dc-aba0b3c0f0c8",
   "metadata": {},
   "outputs": [
    {
     "data": {
      "text/plain": [
       "array([[-8,  6, 13],\n",
       "       [14,  4,  2],\n",
       "       [ 6, -7, 12]])"
      ]
     },
     "execution_count": 63,
     "metadata": {},
     "output_type": "execute_result"
    }
   ],
   "source": [
    "macierz_1 + macierz_2"
   ]
  },
  {
   "cell_type": "code",
   "execution_count": 65,
   "id": "02725377-3229-41c0-b405-e98bce293ddb",
   "metadata": {},
   "outputs": [
    {
     "name": "stdout",
     "output_type": "stream",
     "text": [
      "[[10 30 60]\n",
      " [70 10 10]\n",
      " [70 20 70]]\n",
      "\n",
      "[[ -9   9  42]\n",
      " [ 49   3   1]\n",
      " [ -7 -18  35]]\n"
     ]
    }
   ],
   "source": [
    "print(macierz_1 * 10)\n",
    "print()\n",
    "print(macierz_1 * macierz_2)"
   ]
  },
  {
   "cell_type": "code",
   "execution_count": 67,
   "id": "a676732b-afaa-4299-8787-b2f1ce60ec47",
   "metadata": {},
   "outputs": [
    {
     "data": {
      "text/plain": [
       "array([[  6, -42,  40],\n",
       "       [-57,  15,  55],\n",
       "       [-56, -36,  86]])"
      ]
     },
     "execution_count": 67,
     "metadata": {},
     "output_type": "execute_result"
    }
   ],
   "source": [
    "macierz_1.dot(macierz_2)"
   ]
  },
  {
   "cell_type": "code",
   "execution_count": null,
   "id": "5d39f7ee-77dd-463e-8ef7-d46a8395cf61",
   "metadata": {},
   "outputs": [],
   "source": []
  },
  {
   "cell_type": "code",
   "execution_count": 70,
   "id": "0b8285d7-31e9-490a-a0d1-5dc254755710",
   "metadata": {},
   "outputs": [
    {
     "data": {
      "text/plain": [
       "array([[ 61, -10,  -2],\n",
       "       [ 35,  26,  52],\n",
       "       [-29,  -2,  20]])"
      ]
     },
     "execution_count": 70,
     "metadata": {},
     "output_type": "execute_result"
    }
   ],
   "source": [
    "(macierz_2).dot(macierz_1)"
   ]
  },
  {
   "cell_type": "code",
   "execution_count": 72,
   "id": "33e049ed-9862-4d88-aafe-a825690ad55f",
   "metadata": {},
   "outputs": [
    {
     "data": {
      "text/plain": [
       "array([  0,  10,  20,  30,  40,  50,  60,  70,  80,  90, 100])"
      ]
     },
     "execution_count": 72,
     "metadata": {},
     "output_type": "execute_result"
    }
   ],
   "source": [
    "arr = np.arange(0,101,10)\n",
    "arr"
   ]
  },
  {
   "cell_type": "code",
   "execution_count": 74,
   "id": "58f28dcd-db86-4ddb-b9b5-908e2200d84f",
   "metadata": {},
   "outputs": [
    {
     "data": {
      "text/plain": [
       "array([  0,  20,  40,  60,  80, 100, 120, 140, 160, 180, 200])"
      ]
     },
     "execution_count": 74,
     "metadata": {},
     "output_type": "execute_result"
    }
   ],
   "source": [
    "arr + arr"
   ]
  },
  {
   "cell_type": "code",
   "execution_count": 76,
   "id": "38b0174b-c5e1-4079-a412-8393c4788fdb",
   "metadata": {},
   "outputs": [
    {
     "data": {
      "text/plain": [
       "array([  5,  15,  25,  35,  45,  55,  65,  75,  85,  95, 105])"
      ]
     },
     "execution_count": 76,
     "metadata": {},
     "output_type": "execute_result"
    }
   ],
   "source": [
    "arr + 5"
   ]
  },
  {
   "cell_type": "code",
   "execution_count": 78,
   "id": "397cbcea-cf09-4cae-8643-88b8703078df",
   "metadata": {},
   "outputs": [
    {
     "data": {
      "text/plain": [
       "array([ 0.,  2.,  4.,  6.,  8., 10., 12., 14., 16., 18., 20.])"
      ]
     },
     "execution_count": 78,
     "metadata": {},
     "output_type": "execute_result"
    }
   ],
   "source": [
    "arr / 5"
   ]
  },
  {
   "cell_type": "code",
   "execution_count": 80,
   "id": "18e375a1-899c-4f32-a97d-dfff13e00a53",
   "metadata": {},
   "outputs": [],
   "source": [
    "left_ = np.arange(10).reshape(5,2)\n",
    "right_ = np.arange(5).reshape(5,1)\n"
   ]
  },
  {
   "cell_type": "code",
   "execution_count": null,
   "id": "8763ca92-e916-4725-a206-b6e95160fc4e",
   "metadata": {},
   "outputs": [],
   "source": []
  },
  {
   "cell_type": "code",
   "execution_count": 83,
   "id": "0f022e0d-a178-4fe9-9104-f068a0d12baf",
   "metadata": {},
   "outputs": [
    {
     "data": {
      "text/plain": [
       "array([[0, 1],\n",
       "       [2, 3],\n",
       "       [4, 5],\n",
       "       [6, 7],\n",
       "       [8, 9]])"
      ]
     },
     "execution_count": 83,
     "metadata": {},
     "output_type": "execute_result"
    }
   ],
   "source": [
    "left_"
   ]
  },
  {
   "cell_type": "code",
   "execution_count": 2,
   "id": "49965f73-6014-42a0-8d50-adc8473748f5",
   "metadata": {},
   "outputs": [
    {
     "ename": "SyntaxError",
     "evalue": "invalid syntax (123649827.py, line 1)",
     "output_type": "error",
     "traceback": [
      "\u001b[1;36m  Cell \u001b[1;32mIn[2], line 1\u001b[1;36m\u001b[0m\n\u001b[1;33m    impoet numpy as np\u001b[0m\n\u001b[1;37m           ^\u001b[0m\n\u001b[1;31mSyntaxError\u001b[0m\u001b[1;31m:\u001b[0m invalid syntax\n"
     ]
    }
   ],
   "source": [
    "impoet numpy as np\n"
   ]
  },
  {
   "cell_type": "code",
   "execution_count": 4,
   "id": "8d7acd27-cb13-4ffa-801c-1468f9f6de15",
   "metadata": {},
   "outputs": [],
   "source": [
    "import numpy as np\n"
   ]
  },
  {
   "cell_type": "code",
   "execution_count": 6,
   "id": "81e77970-e34c-4b3c-8534-1a363768909e",
   "metadata": {},
   "outputs": [
    {
     "ename": "NameError",
     "evalue": "name 'right_' is not defined",
     "output_type": "error",
     "traceback": [
      "\u001b[1;31m---------------------------------------------------------------------------\u001b[0m",
      "\u001b[1;31mNameError\u001b[0m                                 Traceback (most recent call last)",
      "Cell \u001b[1;32mIn[6], line 1\u001b[0m\n\u001b[1;32m----> 1\u001b[0m right_\n",
      "\u001b[1;31mNameError\u001b[0m: name 'right_' is not defined"
     ]
    }
   ],
   "source": [
    "right_"
   ]
  },
  {
   "cell_type": "code",
   "execution_count": 8,
   "id": "04636a4f-c25c-4951-a1ad-64f4753007f7",
   "metadata": {},
   "outputs": [],
   "source": [
    "left_ = np.arange(10).reshape(5,2)\n",
    "right_ = np.arange(5).reshape(5,1)"
   ]
  },
  {
   "cell_type": "code",
   "execution_count": 10,
   "id": "c18f85a5-fc31-4b9d-9093-ec903a615e6c",
   "metadata": {},
   "outputs": [
    {
     "data": {
      "text/plain": [
       "array([[0],\n",
       "       [1],\n",
       "       [2],\n",
       "       [3],\n",
       "       [4]])"
      ]
     },
     "execution_count": 10,
     "metadata": {},
     "output_type": "execute_result"
    }
   ],
   "source": [
    "right_\n"
   ]
  },
  {
   "cell_type": "code",
   "execution_count": 12,
   "id": "474a2e1a-0628-4a2a-a76a-302e2fbd5675",
   "metadata": {},
   "outputs": [
    {
     "data": {
      "text/plain": [
       "array([[ 0,  0],\n",
       "       [ 2,  3],\n",
       "       [ 8, 10],\n",
       "       [18, 21],\n",
       "       [32, 36]])"
      ]
     },
     "execution_count": 12,
     "metadata": {},
     "output_type": "execute_result"
    }
   ],
   "source": [
    "left_*right_"
   ]
  },
  {
   "cell_type": "code",
   "execution_count": 14,
   "id": "12ef5031-b077-47b6-bd4d-1ad17984bd7d",
   "metadata": {},
   "outputs": [
    {
     "data": {
      "text/plain": [
       "array([ 0.        ,  3.16227766,  4.47213595,  5.47722558,  6.32455532,\n",
       "        7.07106781,  7.74596669,  8.36660027,  8.94427191,  9.48683298,\n",
       "       10.        ])"
      ]
     },
     "execution_count": 14,
     "metadata": {},
     "output_type": "execute_result"
    }
   ],
   "source": [
    "arr = np.arange(0,101,10)\n",
    "\n",
    "np.sqrt(arr)"
   ]
  },
  {
   "cell_type": "code",
   "execution_count": 16,
   "id": "24688a5c-3907-467b-a76c-2322d24ecf5b",
   "metadata": {},
   "outputs": [],
   "source": [
    "matrix = np.array([[0,4,1], [2,0,4]])"
   ]
  },
  {
   "cell_type": "code",
   "execution_count": 18,
   "id": "0d00d8a9-f207-4949-8093-a976b799ea99",
   "metadata": {},
   "outputs": [],
   "source": [
    "min_values = np.min(matrix, axis=1)"
   ]
  },
  {
   "cell_type": "code",
   "execution_count": 20,
   "id": "3e3662d3-d39d-4d89-a886-aaf38b87c437",
   "metadata": {},
   "outputs": [],
   "source": [
    "min_values = np.max(matrix, axis=1)"
   ]
  },
  {
   "cell_type": "code",
   "execution_count": 22,
   "id": "e795c57d-4173-4d06-b73c-b747aca38d61",
   "metadata": {},
   "outputs": [],
   "source": [
    "min_values = np.min(matrix, axis=1)"
   ]
  },
  {
   "cell_type": "code",
   "execution_count": 24,
   "id": "5ee6f354-63e2-4f06-b2f7-06ffa6c19aab",
   "metadata": {},
   "outputs": [],
   "source": [
    "max_values = np.max(matrix, axis=1)"
   ]
  },
  {
   "cell_type": "code",
   "execution_count": 26,
   "id": "c9c1c847-5b2c-4184-b75e-84b320defb33",
   "metadata": {},
   "outputs": [
    {
     "name": "stdout",
     "output_type": "stream",
     "text": [
      "Wiersz 1:Najmniejsza wartość = 0, Największa wartość = 4\n",
      "Wiersz 2:Najmniejsza wartość = 0, Największa wartość = 4\n"
     ]
    }
   ],
   "source": [
    "for i, (min_val, max_val) in enumerate(zip(min_values, max_values)):\n",
    "    print(f\"Wiersz {i + 1}:Najmniejsza wartość = {min_val}, Największa wartość = {max_val}\")"
   ]
  },
  {
   "cell_type": "code",
   "execution_count": 28,
   "id": "1dbb79c1-f870-480f-b1e3-a2f7d96b5bd4",
   "metadata": {},
   "outputs": [
    {
     "name": "stdout",
     "output_type": "stream",
     "text": [
      "[0 0]\n"
     ]
    }
   ],
   "source": [
    "print(min_values)"
   ]
  },
  {
   "cell_type": "code",
   "execution_count": 30,
   "id": "72b325a5-dc4d-4c46-9f7a-c79a949154b4",
   "metadata": {},
   "outputs": [
    {
     "name": "stdout",
     "output_type": "stream",
     "text": [
      "[4 4]\n"
     ]
    }
   ],
   "source": [
    "print(max_values)"
   ]
  },
  {
   "cell_type": "code",
   "execution_count": 32,
   "id": "16e5c3d1-bf5c-4a01-8b0e-f4eb98d4c6dd",
   "metadata": {},
   "outputs": [
    {
     "data": {
      "text/plain": [
       "array([0.11338954, 0.17180827, 0.59288848, 0.00626023, 0.84599436,\n",
       "       0.10239613, 0.22832125, 0.10435192, 0.36270699, 0.38299322])"
      ]
     },
     "execution_count": 32,
     "metadata": {},
     "output_type": "execute_result"
    }
   ],
   "source": [
    "np.random.uniform(0,1,10)"
   ]
  },
  {
   "cell_type": "code",
   "execution_count": 34,
   "id": "33eb9ba1-fb58-4c44-93d0-3d970f8bacdb",
   "metadata": {},
   "outputs": [],
   "source": [
    "Z = np.random.uniform(0,1,10)\n"
   ]
  },
  {
   "cell_type": "code",
   "execution_count": 36,
   "id": "54f30cfa-d5e4-44c1-b8cb-2144dd24acb2",
   "metadata": {},
   "outputs": [],
   "source": [
    "X = Z - 0.5"
   ]
  },
  {
   "cell_type": "code",
   "execution_count": 38,
   "id": "3ff2eae0-8a38-4a4c-9eee-6f87290c24d2",
   "metadata": {},
   "outputs": [
    {
     "data": {
      "text/plain": [
       "array([ 0.11975062, -0.35926751,  0.3248438 ,  0.37058977,  0.23376885,\n",
       "       -0.31861533,  0.01287256,  0.14241847,  0.14302979,  0.28245869])"
      ]
     },
     "execution_count": 38,
     "metadata": {},
     "output_type": "execute_result"
    }
   ],
   "source": [
    "X\n"
   ]
  },
  {
   "cell_type": "code",
   "execution_count": 40,
   "id": "85d27755-d688-47b9-a126-1650bbbf4b57",
   "metadata": {},
   "outputs": [],
   "source": [
    "wynik = np.min(X)"
   ]
  },
  {
   "cell_type": "code",
   "execution_count": 42,
   "id": "922b5695-1966-4a71-aedb-496751338577",
   "metadata": {},
   "outputs": [
    {
     "data": {
      "text/plain": [
       "-0.3592675072883066"
      ]
     },
     "execution_count": 42,
     "metadata": {},
     "output_type": "execute_result"
    }
   ],
   "source": [
    "wynik\n"
   ]
  },
  {
   "cell_type": "code",
   "execution_count": 44,
   "id": "2c1b76a4-220f-4879-8bc6-44c22378d37a",
   "metadata": {},
   "outputs": [],
   "source": [
    "bliska = np.min(Z-0.5)\n"
   ]
  },
  {
   "cell_type": "code",
   "execution_count": 46,
   "id": "f5aaa748-0a15-4c6d-8ad7-ce2348eac3b5",
   "metadata": {},
   "outputs": [
    {
     "data": {
      "text/plain": [
       "-0.3592675072883066"
      ]
     },
     "execution_count": 46,
     "metadata": {},
     "output_type": "execute_result"
    }
   ],
   "source": [
    "bliska"
   ]
  },
  {
   "cell_type": "code",
   "execution_count": 48,
   "id": "21b72927-5fbc-41ff-bb73-34f01c1b613a",
   "metadata": {},
   "outputs": [],
   "source": [
    "bliska2 = np.min(abs(Z-0.5))"
   ]
  },
  {
   "cell_type": "code",
   "execution_count": 50,
   "id": "d3f4e2a2-3534-446e-8944-1c86506512a9",
   "metadata": {},
   "outputs": [
    {
     "data": {
      "text/plain": [
       "0.012872558202441375"
      ]
     },
     "execution_count": 50,
     "metadata": {},
     "output_type": "execute_result"
    }
   ],
   "source": [
    "bliska2"
   ]
  },
  {
   "cell_type": "code",
   "execution_count": 52,
   "id": "57a2625e-b27a-4111-97ff-35507c4c3188",
   "metadata": {},
   "outputs": [
    {
     "data": {
      "text/plain": [
       "array([0.61975062, 0.14073249, 0.8248438 , 0.87058977, 0.73376885,\n",
       "       0.18138467, 0.51287256, 0.64241847, 0.64302979, 0.78245869])"
      ]
     },
     "execution_count": 52,
     "metadata": {},
     "output_type": "execute_result"
    }
   ],
   "source": [
    "Z"
   ]
  },
  {
   "cell_type": "code",
   "execution_count": 54,
   "id": "b74aeac3-b90c-4436-b478-e537805fb5bf",
   "metadata": {},
   "outputs": [
    {
     "data": {
      "text/plain": [
       "array([0.61975062, 0.14073249, 0.8248438 , 0.87058977, 0.73376885,\n",
       "       0.18138467, 0.51287256, 0.64241847, 0.64302979, 0.78245869])"
      ]
     },
     "execution_count": 54,
     "metadata": {},
     "output_type": "execute_result"
    }
   ],
   "source": [
    "Z"
   ]
  },
  {
   "cell_type": "code",
   "execution_count": 56,
   "id": "4f3bc06f-19bb-44a5-8984-a3214b171e52",
   "metadata": {},
   "outputs": [
    {
     "data": {
      "text/plain": [
       "0.012872558202441375"
      ]
     },
     "execution_count": 56,
     "metadata": {},
     "output_type": "execute_result"
    }
   ],
   "source": [
    "bliska2"
   ]
  },
  {
   "cell_type": "code",
   "execution_count": 58,
   "id": "31c47ee5-b017-4a4a-a4ed-2fd8aea159ef",
   "metadata": {},
   "outputs": [
    {
     "name": "stdout",
     "output_type": "stream",
     "text": [
      "Wektor Z: [0.57730252 0.06630921 0.32471991 0.31586197 0.45562857 0.59146253\n",
      " 0.01874939 0.98425928 0.8530232  0.95498153]\n",
      "Element najbliższy wartości 0.5: 0.45562857488311015\n"
     ]
    }
   ],
   "source": [
    "import numpy as np\n",
    "\n",
    "# Tworzenie wektora Z według wzoru np.random.uniform(0, 1, 10)\n",
    "Z = np.random.uniform(0, 1, 10)\n",
    "print(\"Wektor Z:\", Z)\n",
    "\n",
    "# Znalezienie elementu najbliższego wartości 0.5\n",
    "closest_value = Z[np.abs(Z - 0.5).argmin()]\n",
    "print(\"Element najbliższy wartości 0.5:\", closest_value)"
   ]
  },
  {
   "cell_type": "code",
   "execution_count": 60,
   "id": "137a70cd-e20a-4ada-9c6e-af232897f713",
   "metadata": {},
   "outputs": [
    {
     "name": "stdout",
     "output_type": "stream",
     "text": [
      "Wektor przed zmianą: [0.43606908 0.37813729 0.95551517 0.38862682 0.06545671 0.55200133\n",
      " 0.07703362 0.17885807 0.78903061 0.41126444 0.09511328 0.23152041\n",
      " 0.63266835 0.3683239  0.43870991 0.87110451 0.37965015 0.46052514\n",
      " 0.96902406 0.53158247]\n",
      "Wektor po zmianie: [0.43606908 0.37813729 0.95551517 0.38862682 0.06545671 0.55200133\n",
      " 0.07703362 0.17885807 0.78903061 0.41126444 0.09511328 0.23152041\n",
      " 0.63266835 0.3683239  0.43870991 0.87110451 0.37965015 0.46052514\n",
      " 0.         0.53158247]\n"
     ]
    }
   ],
   "source": [
    "# Tworzenie wektora z 20 losowymi wartościami\n",
    "vector = np.random.random(20)  # Wektor z losowymi wartościami z przedziału [0, 1)\n",
    "print(\"Wektor przed zmianą:\", vector)\n",
    "\n",
    "# Znalezienie indeksu największej wartości\n",
    "max_index = np.argmax(vector)\n",
    "\n",
    "# Zamiana największej wartości na 0\n",
    "vector[max_index] = 0\n",
    "print(\"Wektor po zmianie:\", vector)\n"
   ]
  },
  {
   "cell_type": "code",
   "execution_count": 62,
   "id": "b35f3ae4-8dd0-46d5-97d9-c1fea6e991e6",
   "metadata": {},
   "outputs": [],
   "source": [
    "bro = np.array([5, 0.0249139 , 0.11873564, 0., 0.72321586, 11308494, 0.29931472, 0.24439968, 0.61251754, 4])\n",
    "\n"
   ]
  },
  {
   "cell_type": "code",
   "execution_count": 64,
   "id": "abd48bf5-12c6-47fc-b231-1080a957fc22",
   "metadata": {},
   "outputs": [
    {
     "data": {
      "text/plain": [
       "array([5.0000000e+00, 0.0000000e+00, 1.1308494e+07, 4.0000000e+00])"
      ]
     },
     "execution_count": 64,
     "metadata": {},
     "output_type": "execute_result"
    }
   ],
   "source": [
    "bro[(bro==0)|(bro>=1)]"
   ]
  },
  {
   "cell_type": "code",
   "execution_count": 66,
   "id": "7a1dfe2b-5d57-4047-b015-370964610ec9",
   "metadata": {},
   "outputs": [
    {
     "data": {
      "text/plain": [
       "array([ True, False, False,  True, False,  True, False, False, False,\n",
       "        True])"
      ]
     },
     "execution_count": 66,
     "metadata": {},
     "output_type": "execute_result"
    }
   ],
   "source": [
    "np.logical_or(bro==0,bro>=1)"
   ]
  },
  {
   "cell_type": "code",
   "execution_count": 68,
   "id": "e2979873-44ac-4828-81c5-fde7c788e7b0",
   "metadata": {},
   "outputs": [
    {
     "data": {
      "text/plain": [
       "array([5.0000000e+00, 0.0000000e+00, 1.1308494e+07, 4.0000000e+00])"
      ]
     },
     "execution_count": 68,
     "metadata": {},
     "output_type": "execute_result"
    }
   ],
   "source": [
    "bro[np.logical_or(bro==0,bro>=1)]"
   ]
  },
  {
   "cell_type": "code",
   "execution_count": 70,
   "id": "c20ffe9d-c700-4361-bc1b-f26fbbe42fc3",
   "metadata": {},
   "outputs": [
    {
     "ename": "NameError",
     "evalue": "name 'int64' is not defined",
     "output_type": "error",
     "traceback": [
      "\u001b[1;31m---------------------------------------------------------------------------\u001b[0m",
      "\u001b[1;31mNameError\u001b[0m                                 Traceback (most recent call last)",
      "Cell \u001b[1;32mIn[70], line 1\u001b[0m\n\u001b[1;32m----> 1\u001b[0m bro\u001b[38;5;241m.\u001b[39mdtype \u001b[38;5;241m==\u001b[39mint64\n",
      "\u001b[1;31mNameError\u001b[0m: name 'int64' is not defined"
     ]
    }
   ],
   "source": [
    "bro.dtype ==int64\n"
   ]
  },
  {
   "cell_type": "code",
   "execution_count": 72,
   "id": "3ac977ef-a976-4dab-a3f3-59e453fe79d4",
   "metadata": {},
   "outputs": [
    {
     "name": "stdout",
     "output_type": "stream",
     "text": [
      "[5.0000000e+00 0.0000000e+00 0.0000000e+00 0.0000000e+00 0.0000000e+00\n",
      " 1.1308494e+07 0.0000000e+00 0.0000000e+00 0.0000000e+00 4.0000000e+00]\n"
     ]
    }
   ],
   "source": [
    "integer_parts = np.floor(bro)\n",
    "print(integer_parts)"
   ]
  },
  {
   "cell_type": "code",
   "execution_count": 74,
   "id": "0910c70a-dc7d-4d53-b2e6-0d2ac12f4f3c",
   "metadata": {},
   "outputs": [
    {
     "name": "stdout",
     "output_type": "stream",
     "text": [
      "[5.0000000e+00 0.0000000e+00 0.0000000e+00 0.0000000e+00 1.0000000e+00\n",
      " 1.1308494e+07 0.0000000e+00 0.0000000e+00 1.0000000e+00 4.0000000e+00]\n"
     ]
    }
   ],
   "source": [
    "integer_parts_rint = np.rint(bro)\n",
    "print(integer_parts_rint)"
   ]
  },
  {
   "cell_type": "code",
   "execution_count": 76,
   "id": "50056b4b-4789-43f8-9eed-1e6407af6df6",
   "metadata": {},
   "outputs": [
    {
     "data": {
      "text/plain": [
       "11308505.02309734"
      ]
     },
     "execution_count": 76,
     "metadata": {},
     "output_type": "execute_result"
    }
   ],
   "source": [
    "bro.sum()"
   ]
  },
  {
   "cell_type": "code",
   "execution_count": 78,
   "id": "51df42a9-3768-4d3e-bc38-63f25158b33f",
   "metadata": {},
   "outputs": [
    {
     "data": {
      "text/plain": [
       "1130850.502309734"
      ]
     },
     "execution_count": 78,
     "metadata": {},
     "output_type": "execute_result"
    }
   ],
   "source": [
    "bro.mean()"
   ]
  },
  {
   "cell_type": "code",
   "execution_count": 80,
   "id": "916fd7dd-908b-411d-9983-8336cec23cd0",
   "metadata": {},
   "outputs": [
    {
     "data": {
      "text/plain": [
       "0.0"
      ]
     },
     "execution_count": 80,
     "metadata": {},
     "output_type": "execute_result"
    }
   ],
   "source": [
    "bro.min()"
   ]
  },
  {
   "cell_type": "code",
   "execution_count": 82,
   "id": "c2f3c2c7-b817-4cdf-b45e-08da941074a5",
   "metadata": {},
   "outputs": [
    {
     "data": {
      "text/plain": [
       "11308494.0"
      ]
     },
     "execution_count": 82,
     "metadata": {},
     "output_type": "execute_result"
    }
   ],
   "source": [
    "bro.max()"
   ]
  },
  {
   "cell_type": "code",
   "execution_count": 84,
   "id": "4973b272-598f-42e6-b1ea-f88a8009ec3c",
   "metadata": {},
   "outputs": [
    {
     "name": "stdout",
     "output_type": "stream",
     "text": [
      "[[1 2 3]\n",
      " [4 5 6]\n",
      " [7 8 9]] \n",
      "\n",
      "[1 2 3] \n",
      "\n",
      "[1 4 7]\n"
     ]
    }
   ],
   "source": [
    "arr_2d = np.array([[1, 2, 3], [4, 5, 6], [7, 8, 9]])\n",
    "print(arr_2d, '\\n')\n",
    "print(arr_2d.min(axis=0), '\\n')\n",
    "print(arr_2d.min(axis=1))"
   ]
  },
  {
   "cell_type": "code",
   "execution_count": 86,
   "id": "61253a91-3b6c-41f3-8550-f51d5a6b39a5",
   "metadata": {},
   "outputs": [
    {
     "data": {
      "text/plain": [
       "array([  0,  10,  20,  30,  40,  50,  60,  70,  80,  90, 100])"
      ]
     },
     "execution_count": 86,
     "metadata": {},
     "output_type": "execute_result"
    }
   ],
   "source": [
    "arr = np.arange(0,101,10)\n",
    "arr"
   ]
  },
  {
   "cell_type": "code",
   "execution_count": 88,
   "id": "9fb87c01-37dd-4105-a63a-426b0c00d710",
   "metadata": {},
   "outputs": [
    {
     "name": "stderr",
     "output_type": "stream",
     "text": [
      "C:\\Users\\Start\\AppData\\Local\\Temp\\ipykernel_34596\\2811617162.py:1: RuntimeWarning: invalid value encountered in divide\n",
      "  arr / arr\n"
     ]
    },
    {
     "data": {
      "text/plain": [
       "array([nan,  1.,  1.,  1.,  1.,  1.,  1.,  1.,  1.,  1.,  1.])"
      ]
     },
     "execution_count": 88,
     "metadata": {},
     "output_type": "execute_result"
    }
   ],
   "source": [
    "arr / arr\n"
   ]
  },
  {
   "cell_type": "code",
   "execution_count": 90,
   "id": "ac8c289c-7538-46a2-8ad4-61ad9fc62349",
   "metadata": {},
   "outputs": [
    {
     "data": {
      "text/plain": [
       "array([24, 13, 19,  7, 31, 36, 32, 35, 37,  1])"
      ]
     },
     "execution_count": 90,
     "metadata": {},
     "output_type": "execute_result"
    }
   ],
   "source": [
    "arr = np.random.randint(1,40,10)\n",
    "arr"
   ]
  },
  {
   "cell_type": "code",
   "execution_count": 92,
   "id": "6f27a2d5-3ccc-4b8a-9324-0dcb7ea44dd5",
   "metadata": {},
   "outputs": [],
   "source": [
    "import numpy as np"
   ]
  },
  {
   "cell_type": "code",
   "execution_count": 94,
   "id": "740051ab-e694-4c5f-8703-b1875e429cde",
   "metadata": {},
   "outputs": [
    {
     "data": {
      "text/plain": [
       "array([24, 13, 19,  7, 31, 36, 32, 35, 37,  1])"
      ]
     },
     "execution_count": 94,
     "metadata": {},
     "output_type": "execute_result"
    }
   ],
   "source": [
    "arr"
   ]
  },
  {
   "cell_type": "code",
   "execution_count": 96,
   "id": "a804295e-ca56-4eba-9268-2fabe4a76c8d",
   "metadata": {},
   "outputs": [
    {
     "data": {
      "text/plain": [
       "array([9, 3, 1, 2, 0, 4, 6, 7, 5, 8], dtype=int64)"
      ]
     },
     "execution_count": 96,
     "metadata": {},
     "output_type": "execute_result"
    }
   ],
   "source": [
    "np.argsort(arr)"
   ]
  },
  {
   "cell_type": "code",
   "execution_count": 98,
   "id": "2dead2de-7445-4c44-99ab-0bb24c3862fc",
   "metadata": {},
   "outputs": [
    {
     "data": {
      "text/plain": [
       "array([(b'Student A', 89, 74), (b'Student B', 85, 56),\n",
       "       (b'Student C', 93, 44), (b'Student D', 83, 92)],\n",
       "      dtype=[('student', 'S10'), ('exam1', '<i4'), ('exam2', '<i4')])"
      ]
     },
     "execution_count": 98,
     "metadata": {},
     "output_type": "execute_result"
    }
   ],
   "source": [
    "dt = np.dtype([('student','S10'),('exam1',int),('exam2',int)])\n",
    "\n",
    "a = np.array([(\"Student A\",89,74),(\"Student B\",85,56),\n",
    "              (\"Student C\", 93,44), (\"Student D\",83,92)],dtype=dt)\n",
    "\n",
    "a"
   ]
  },
  {
   "cell_type": "code",
   "execution_count": 100,
   "id": "dbb0c0de-2c01-44e0-95a1-158cf988a56c",
   "metadata": {},
   "outputs": [
    {
     "data": {
      "text/plain": [
       "array([(b'Student D', 83, 92), (b'Student A', 89, 74),\n",
       "       (b'Student B', 85, 56), (b'Student C', 93, 44)],\n",
       "      dtype=[('student', 'S10'), ('exam1', '<i4'), ('exam2', '<i4')])"
      ]
     },
     "execution_count": 100,
     "metadata": {},
     "output_type": "execute_result"
    }
   ],
   "source": [
    "np.sort(a,order='exam2')[::-1]"
   ]
  },
  {
   "cell_type": "code",
   "execution_count": 102,
   "id": "7009b039-6ffb-4ed5-b0ee-a8968bedb0bb",
   "metadata": {},
   "outputs": [],
   "source": [
    "import numpy as np"
   ]
  },
  {
   "cell_type": "code",
   "execution_count": 104,
   "id": "f417e35d-6d75-4ce3-abaf-b8f3aa2cb89e",
   "metadata": {},
   "outputs": [],
   "source": [
    "freq = 12\n",
    "rate = 0.0675\n",
    "years = 30\n",
    "pv = 200000\n",
    "\n",
    "rate /= freq  # konwersja stopy do okresu miesięcznego\n",
    "nper = years * freq  # liczba wszystkich okresów"
   ]
  },
  {
   "cell_type": "code",
   "execution_count": 106,
   "id": "018e7dba-39f4-45fd-b53c-bd1a313984d7",
   "metadata": {},
   "outputs": [],
   "source": [
    "periods = np.arange(1,nper+1,dtype=int)"
   ]
  },
  {
   "cell_type": "code",
   "execution_count": 108,
   "id": "3bacf138-00ad-4553-b736-8a48a134af15",
   "metadata": {},
   "outputs": [
    {
     "data": {
      "text/plain": [
       "array([  1,   2,   3,   4,   5,   6,   7,   8,   9,  10,  11,  12,  13,\n",
       "        14,  15,  16,  17,  18,  19,  20,  21,  22,  23,  24,  25,  26,\n",
       "        27,  28,  29,  30,  31,  32,  33,  34,  35,  36,  37,  38,  39,\n",
       "        40,  41,  42,  43,  44,  45,  46,  47,  48,  49,  50,  51,  52,\n",
       "        53,  54,  55,  56,  57,  58,  59,  60,  61,  62,  63,  64,  65,\n",
       "        66,  67,  68,  69,  70,  71,  72,  73,  74,  75,  76,  77,  78,\n",
       "        79,  80,  81,  82,  83,  84,  85,  86,  87,  88,  89,  90,  91,\n",
       "        92,  93,  94,  95,  96,  97,  98,  99, 100, 101, 102, 103, 104,\n",
       "       105, 106, 107, 108, 109, 110, 111, 112, 113, 114, 115, 116, 117,\n",
       "       118, 119, 120, 121, 122, 123, 124, 125, 126, 127, 128, 129, 130,\n",
       "       131, 132, 133, 134, 135, 136, 137, 138, 139, 140, 141, 142, 143,\n",
       "       144, 145, 146, 147, 148, 149, 150, 151, 152, 153, 154, 155, 156,\n",
       "       157, 158, 159, 160, 161, 162, 163, 164, 165, 166, 167, 168, 169,\n",
       "       170, 171, 172, 173, 174, 175, 176, 177, 178, 179, 180, 181, 182,\n",
       "       183, 184, 185, 186, 187, 188, 189, 190, 191, 192, 193, 194, 195,\n",
       "       196, 197, 198, 199, 200, 201, 202, 203, 204, 205, 206, 207, 208,\n",
       "       209, 210, 211, 212, 213, 214, 215, 216, 217, 218, 219, 220, 221,\n",
       "       222, 223, 224, 225, 226, 227, 228, 229, 230, 231, 232, 233, 234,\n",
       "       235, 236, 237, 238, 239, 240, 241, 242, 243, 244, 245, 246, 247,\n",
       "       248, 249, 250, 251, 252, 253, 254, 255, 256, 257, 258, 259, 260,\n",
       "       261, 262, 263, 264, 265, 266, 267, 268, 269, 270, 271, 272, 273,\n",
       "       274, 275, 276, 277, 278, 279, 280, 281, 282, 283, 284, 285, 286,\n",
       "       287, 288, 289, 290, 291, 292, 293, 294, 295, 296, 297, 298, 299,\n",
       "       300, 301, 302, 303, 304, 305, 306, 307, 308, 309, 310, 311, 312,\n",
       "       313, 314, 315, 316, 317, 318, 319, 320, 321, 322, 323, 324, 325,\n",
       "       326, 327, 328, 329, 330, 331, 332, 333, 334, 335, 336, 337, 338,\n",
       "       339, 340, 341, 342, 343, 344, 345, 346, 347, 348, 349, 350, 351,\n",
       "       352, 353, 354, 355, 356, 357, 358, 359, 360])"
      ]
     },
     "execution_count": 108,
     "metadata": {},
     "output_type": "execute_result"
    }
   ],
   "source": [
    "periods"
   ]
  },
  {
   "cell_type": "code",
   "execution_count": 110,
   "id": "f76e5be4-19fc-4760-a1d6-8ecc3a8b0fbf",
   "metadata": {},
   "outputs": [
    {
     "name": "stdout",
     "output_type": "stream",
     "text": [
      "Collecting numpy-financial==1.0.0Note: you may need to restart the kernel to use updated packages.\n",
      "\n",
      "  Downloading numpy_financial-1.0.0-py3-none-any.whl.metadata (2.2 kB)\n",
      "Requirement already satisfied: numpy>=1.15 in c:\\users\\start\\anaconda3\\lib\\site-packages (from numpy-financial==1.0.0) (1.26.4)\n",
      "Downloading numpy_financial-1.0.0-py3-none-any.whl (14 kB)\n",
      "Installing collected packages: numpy-financial\n",
      "Successfully installed numpy-financial-1.0.0\n"
     ]
    }
   ],
   "source": [
    "pip install numpy-financial==1.0.0"
   ]
  },
  {
   "cell_type": "code",
   "execution_count": 112,
   "id": "ace96ad1-25bb-4a64-bf09-2a2ed76f1fdc",
   "metadata": {},
   "outputs": [
    {
     "data": {
      "text/plain": [
       "array([1125.  , 1124.03, 1123.06, 1122.08, 1121.09, 1120.1 , 1119.11,\n",
       "       1118.1 , 1117.1 , 1116.08])"
      ]
     },
     "execution_count": 112,
     "metadata": {},
     "output_type": "execute_result"
    }
   ],
   "source": [
    "import numpy_financial as npf\n",
    "interest_equal = - np.around(npf.ipmt(rate,periods,nper,pv),2)\n",
    "interest_equal[:10]"
   ]
  },
  {
   "cell_type": "code",
   "execution_count": 114,
   "id": "0382cd86-0fca-4263-80bd-740b5c424a65",
   "metadata": {},
   "outputs": [
    {
     "name": "stdout",
     "output_type": "stream",
     "text": [
      "Wartość odsetek do zapłaty w wariancie kredytu w równych ratach wynosi: 266990.60\n"
     ]
    },
    {
     "ename": "NameError",
     "evalue": "name 'interest_decreasing' is not defined",
     "output_type": "error",
     "traceback": [
      "\u001b[1;31m---------------------------------------------------------------------------\u001b[0m",
      "\u001b[1;31mNameError\u001b[0m                                 Traceback (most recent call last)",
      "Cell \u001b[1;32mIn[114], line 2\u001b[0m\n\u001b[0;32m      1\u001b[0m \u001b[38;5;28mprint\u001b[39m(\u001b[38;5;124m\"\u001b[39m\u001b[38;5;124mWartość odsetek do zapłaty w wariancie kredytu w równych ratach wynosi: \u001b[39m\u001b[38;5;124m\"\u001b[39m \u001b[38;5;241m+\u001b[39m \u001b[38;5;28mstr\u001b[39m(\u001b[38;5;124m\"\u001b[39m\u001b[38;5;132;01m{:.2f}\u001b[39;00m\u001b[38;5;124m\"\u001b[39m\u001b[38;5;241m.\u001b[39mformat(interest_equal\u001b[38;5;241m.\u001b[39msum())))\n\u001b[1;32m----> 2\u001b[0m \u001b[38;5;28mprint\u001b[39m(\u001b[38;5;124m\"\u001b[39m\u001b[38;5;124mWartość odsetek do zapłaty w wariancie kredytu w ratach malejących wynosi: \u001b[39m\u001b[38;5;124m\"\u001b[39m \u001b[38;5;241m+\u001b[39m \u001b[38;5;28mstr\u001b[39m(\u001b[38;5;124m\"\u001b[39m\u001b[38;5;132;01m{:.2f}\u001b[39;00m\u001b[38;5;124m\"\u001b[39m\u001b[38;5;241m.\u001b[39mformat(interest_decreasing\u001b[38;5;241m.\u001b[39msum())))\n",
      "\u001b[1;31mNameError\u001b[0m: name 'interest_decreasing' is not defined"
     ]
    }
   ],
   "source": [
    "print(\"Wartość odsetek do zapłaty w wariancie kredytu w równych ratach wynosi: \" + str(\"{:.2f}\".format(interest_equal.sum())))\n",
    "print(\"Wartość odsetek do zapłaty w wariancie kredytu w ratach malejących wynosi: \" + str(\"{:.2f}\".format(interest_decreasing.sum())))"
   ]
  },
  {
   "cell_type": "code",
   "execution_count": 116,
   "id": "27129b88-9b9c-47ef-815d-27025382e6da",
   "metadata": {},
   "outputs": [
    {
     "data": {
      "text/plain": [
       "array([555.56, 555.56, 555.56, 555.56, 555.56, 555.56, 555.56, 555.56,\n",
       "       555.56, 555.56])"
      ]
     },
     "execution_count": 116,
     "metadata": {},
     "output_type": "execute_result"
    }
   ],
   "source": [
    "np.set_printoptions(suppress=True)\n",
    "\n",
    "principal_decreasing = np.around(np.zeros(nper)+(pv/nper),2)\n",
    "principal_decreasing[:10]"
   ]
  },
  {
   "cell_type": "code",
   "execution_count": 118,
   "id": "2c00ed7a-3251-49e2-b3fa-94bf00da400b",
   "metadata": {},
   "outputs": [
    {
     "data": {
      "text/plain": [
       "array([199444.44, 198888.88, 198333.32,   1109.52,    553.96,     -1.6 ])"
      ]
     },
     "execution_count": 118,
     "metadata": {},
     "output_type": "execute_result"
    }
   ],
   "source": [
    "balance = np.zeros(nper) + pv\n",
    "balance_close = np.around(balance - np.cumsum(principal_decreasing),2)\n",
    "balance_close[[0,1,2,-3,-2,-1]]"
   ]
  },
  {
   "cell_type": "code",
   "execution_count": 120,
   "id": "f6c02c3a-4dc5-42a4-90a3-2e138e6bf979",
   "metadata": {},
   "outputs": [
    {
     "data": {
      "text/plain": [
       "array([ 555.56, 1111.12, 1666.68, 2222.24, 2777.8 , 3333.36, 3888.92,\n",
       "       4444.48, 5000.04, 5555.6 ])"
      ]
     },
     "execution_count": 120,
     "metadata": {},
     "output_type": "execute_result"
    }
   ],
   "source": [
    "np.cumsum(principal_decreasing)[:10]"
   ]
  },
  {
   "cell_type": "code",
   "execution_count": 122,
   "id": "2b030128-3328-45d8-acfa-c8e54bc85bbd",
   "metadata": {},
   "outputs": [],
   "source": [
    "balance_open = balance_close + principal_decreasing"
   ]
  },
  {
   "cell_type": "code",
   "execution_count": 124,
   "id": "e185494a-3317-48e5-a0c3-eb3520366b78",
   "metadata": {},
   "outputs": [
    {
     "data": {
      "text/plain": [
       "array([1125.  , 1121.87, 1118.75, 1115.62, 1112.5 , 1109.37, 1106.25,\n",
       "       1103.12, 1100.  , 1096.87])"
      ]
     },
     "execution_count": 124,
     "metadata": {},
     "output_type": "execute_result"
    }
   ],
   "source": [
    "interest_decreasing = np.around(balance_open * rate,2)\n",
    "interest_decreasing[:10]"
   ]
  },
  {
   "cell_type": "code",
   "execution_count": 126,
   "id": "79373203-2fa5-4974-af79-9bc6176e3e77",
   "metadata": {},
   "outputs": [
    {
     "name": "stdout",
     "output_type": "stream",
     "text": [
      "Wartość odsetek do zapłaty w wariancie kredytu w równych ratach wynosi: 266990.60\n",
      "Wartość odsetek do zapłaty w wariancie kredytu w ratach malejących wynosi: 203060.81\n"
     ]
    }
   ],
   "source": [
    "print(\"Wartość odsetek do zapłaty w wariancie kredytu w równych ratach wynosi: \" + str(\"{:.2f}\".format(interest_equal.sum())))\n",
    "print(\"Wartość odsetek do zapłaty w wariancie kredytu w ratach malejących wynosi: \" + str(\"{:.2f}\".format(interest_decreasing.sum())))"
   ]
  },
  {
   "cell_type": "code",
   "execution_count": 128,
   "id": "049c853d-0236-4a9e-8f32-d97ee1df6648",
   "metadata": {},
   "outputs": [],
   "source": [
    "import matplotlib.pyplot as plt"
   ]
  },
  {
   "cell_type": "code",
   "execution_count": 130,
   "id": "22fb5779-3618-4bc3-9785-f9e085e34926",
   "metadata": {},
   "outputs": [
    {
     "data": {
      "text/plain": [
       "Text(0, 0.5, 'Skumulowana wartość odsetek')"
      ]
     },
     "execution_count": 130,
     "metadata": {},
     "output_type": "execute_result"
    },
    {
     "data": {
      "image/png": "[encoded data removed]",
      "text/plain": [
       "<Figure size 640x480 with 1 Axes>"
      ]
     },
     "metadata": {},
     "output_type": "display_data"
    }
   ],
   "source": [
    "plt.plot(interest_equal.cumsum(),label='raty równe')\n",
    "plt.plot(interest_decreasing.cumsum(),label='raty malejące')\n",
    "plt.legend()\n",
    "plt.xlabel('Liczba okresów')\n",
    "plt.ylabel('Skumulowana wartość odsetek')"
   ]
  },
  {
   "cell_type": "code",
   "execution_count": null,
   "id": "5c0d25ce-c422-46bd-8a26-71fda096a8b9",
   "metadata": {},
   "outputs": [],
   "source": []
  }
 ],
 "metadata": {
  "kernelspec": {
   "display_name": "Python 3 (ipykernel)",
   "language": "python",
   "name": "python3"
  },
  "language_info": {
   "codemirror_mode": {
    "name": "ipython",
    "version": 3
   },
   "file_extension": ".py",
   "mimetype": "text/x-python",
   "name": "python",
   "nbconvert_exporter": "python",
   "pygments_lexer": "ipython3",
   "version": "3.12.4"
  }
 },
 "nbformat": 4,
 "nbformat_minor": 5
}
